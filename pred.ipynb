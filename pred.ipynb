{
 "cells": [
  {
   "cell_type": "markdown",
   "metadata": {},
   "source": []
  },
  {
   "cell_type": "code",
   "execution_count": 71,
   "metadata": {},
   "outputs": [],
   "source": [
    "import pandas as pd\n",
    "from datetime import datetime, timedelta\n",
    "from pymongo import MongoClient\n",
    "\n",
    "def fetch_data_from_mongodb(collection, room_number='Room108', days_back=1):\n",
    "    today = datetime.today().replace(hour=0, minute=0, second=0, microsecond=0)\n",
    "    start_date = today - pd.DateOffset(days=days_back)\n",
    "    cursor = collection.find(\n",
    "        {'temperature': {'$exists': True, '$ne': None},\n",
    "         'roomNumber': room_number, 'createdAt': {'$gte': start_date}},\n",
    "        {'createdAt': 1, 'temperature': 1, '_id': 0}\n",
    "    )\n",
    "    data = list(cursor)\n",
    "    df = pd.DataFrame(data)\n",
    "    return df"
   ]
  },
  {
   "cell_type": "code",
   "execution_count": 72,
   "metadata": {},
   "outputs": [
    {
     "data": {
      "text/html": [
       "<div>\n",
       "<style scoped>\n",
       "    .dataframe tbody tr th:only-of-type {\n",
       "        vertical-align: middle;\n",
       "    }\n",
       "\n",
       "    .dataframe tbody tr th {\n",
       "        vertical-align: top;\n",
       "    }\n",
       "\n",
       "    .dataframe thead th {\n",
       "        text-align: right;\n",
       "    }\n",
       "</style>\n",
       "<table border=\"1\" class=\"dataframe\">\n",
       "  <thead>\n",
       "    <tr style=\"text-align: right;\">\n",
       "      <th></th>\n",
       "      <th>temperature</th>\n",
       "      <th>createdAt</th>\n",
       "    </tr>\n",
       "  </thead>\n",
       "  <tbody>\n",
       "    <tr>\n",
       "      <th>0</th>\n",
       "      <td>23.2</td>\n",
       "      <td>2024-01-11 00:24:40</td>\n",
       "    </tr>\n",
       "    <tr>\n",
       "      <th>1</th>\n",
       "      <td>23.2</td>\n",
       "      <td>2024-01-11 00:24:35</td>\n",
       "    </tr>\n",
       "    <tr>\n",
       "      <th>2</th>\n",
       "      <td>23.1</td>\n",
       "      <td>2024-01-11 00:24:30</td>\n",
       "    </tr>\n",
       "    <tr>\n",
       "      <th>3</th>\n",
       "      <td>23.2</td>\n",
       "      <td>2024-01-11 00:24:25</td>\n",
       "    </tr>\n",
       "    <tr>\n",
       "      <th>4</th>\n",
       "      <td>23.2</td>\n",
       "      <td>2024-01-11 00:24:20</td>\n",
       "    </tr>\n",
       "    <tr>\n",
       "      <th>...</th>\n",
       "      <td>...</td>\n",
       "      <td>...</td>\n",
       "    </tr>\n",
       "    <tr>\n",
       "      <th>3745</th>\n",
       "      <td>24.0</td>\n",
       "      <td>2024-01-10 18:59:54</td>\n",
       "    </tr>\n",
       "    <tr>\n",
       "      <th>3746</th>\n",
       "      <td>23.9</td>\n",
       "      <td>2024-01-10 18:59:49</td>\n",
       "    </tr>\n",
       "    <tr>\n",
       "      <th>3747</th>\n",
       "      <td>23.5</td>\n",
       "      <td>2024-01-10 18:59:44</td>\n",
       "    </tr>\n",
       "    <tr>\n",
       "      <th>3748</th>\n",
       "      <td>23.5</td>\n",
       "      <td>2024-01-10 18:59:21</td>\n",
       "    </tr>\n",
       "    <tr>\n",
       "      <th>3749</th>\n",
       "      <td>23.5</td>\n",
       "      <td>2024-01-10 18:59:16</td>\n",
       "    </tr>\n",
       "  </tbody>\n",
       "</table>\n",
       "<p>3750 rows × 2 columns</p>\n",
       "</div>"
      ],
      "text/plain": [
       "      temperature           createdAt\n",
       "0            23.2 2024-01-11 00:24:40\n",
       "1            23.2 2024-01-11 00:24:35\n",
       "2            23.1 2024-01-11 00:24:30\n",
       "3            23.2 2024-01-11 00:24:25\n",
       "4            23.2 2024-01-11 00:24:20\n",
       "...           ...                 ...\n",
       "3745         24.0 2024-01-10 18:59:54\n",
       "3746         23.9 2024-01-10 18:59:49\n",
       "3747         23.5 2024-01-10 18:59:44\n",
       "3748         23.5 2024-01-10 18:59:21\n",
       "3749         23.5 2024-01-10 18:59:16\n",
       "\n",
       "[3750 rows x 2 columns]"
      ]
     },
     "execution_count": 72,
     "metadata": {},
     "output_type": "execute_result"
    }
   ],
   "source": [
    "# Connect to MongoDB Atlas\n",
    "client = MongoClient(\n",
    "    \"<mongo_db_credentials>\")\n",
    "db = client['test']\n",
    "collection = db['sensordatas']\n",
    "\n",
    "# Fetch data from MongoDB\n",
    "df = fetch_data_from_mongodb(\n",
    "    collection, room_number='Room108', days_back=1)  # Adjust days_back as needed\n",
    "\n",
    "df[\"createdAt\"] = pd.to_datetime(df[\"createdAt\"], format='%Y-%m-%d %H:%M:%S')\n",
    "df[\"createdAt\"] = df[\"createdAt\"].apply(lambda x: x.replace(microsecond=0))\n",
    "df"
   ]
  },
  {
   "cell_type": "code",
   "execution_count": 73,
   "metadata": {},
   "outputs": [
    {
     "data": {
      "text/html": [
       "<div>\n",
       "<style scoped>\n",
       "    .dataframe tbody tr th:only-of-type {\n",
       "        vertical-align: middle;\n",
       "    }\n",
       "\n",
       "    .dataframe tbody tr th {\n",
       "        vertical-align: top;\n",
       "    }\n",
       "\n",
       "    .dataframe thead th {\n",
       "        text-align: right;\n",
       "    }\n",
       "</style>\n",
       "<table border=\"1\" class=\"dataframe\">\n",
       "  <thead>\n",
       "    <tr style=\"text-align: right;\">\n",
       "      <th></th>\n",
       "      <th>temperature</th>\n",
       "      <th>createdAt</th>\n",
       "    </tr>\n",
       "  </thead>\n",
       "  <tbody>\n",
       "    <tr>\n",
       "      <th>0</th>\n",
       "      <td>23.2</td>\n",
       "      <td>2024-01-11 00:24:40</td>\n",
       "    </tr>\n",
       "    <tr>\n",
       "      <th>1</th>\n",
       "      <td>23.2</td>\n",
       "      <td>2024-01-11 00:24:35</td>\n",
       "    </tr>\n",
       "    <tr>\n",
       "      <th>2</th>\n",
       "      <td>23.1</td>\n",
       "      <td>2024-01-11 00:24:30</td>\n",
       "    </tr>\n",
       "    <tr>\n",
       "      <th>3</th>\n",
       "      <td>23.2</td>\n",
       "      <td>2024-01-11 00:24:25</td>\n",
       "    </tr>\n",
       "    <tr>\n",
       "      <th>4</th>\n",
       "      <td>23.2</td>\n",
       "      <td>2024-01-11 00:24:20</td>\n",
       "    </tr>\n",
       "    <tr>\n",
       "      <th>...</th>\n",
       "      <td>...</td>\n",
       "      <td>...</td>\n",
       "    </tr>\n",
       "    <tr>\n",
       "      <th>3728</th>\n",
       "      <td>24.0</td>\n",
       "      <td>2024-01-10 18:59:54</td>\n",
       "    </tr>\n",
       "    <tr>\n",
       "      <th>3729</th>\n",
       "      <td>23.9</td>\n",
       "      <td>2024-01-10 18:59:49</td>\n",
       "    </tr>\n",
       "    <tr>\n",
       "      <th>3730</th>\n",
       "      <td>23.5</td>\n",
       "      <td>2024-01-10 18:59:44</td>\n",
       "    </tr>\n",
       "    <tr>\n",
       "      <th>3731</th>\n",
       "      <td>23.5</td>\n",
       "      <td>2024-01-10 18:59:21</td>\n",
       "    </tr>\n",
       "    <tr>\n",
       "      <th>3732</th>\n",
       "      <td>23.5</td>\n",
       "      <td>2024-01-10 18:59:16</td>\n",
       "    </tr>\n",
       "  </tbody>\n",
       "</table>\n",
       "<p>3733 rows × 2 columns</p>\n",
       "</div>"
      ],
      "text/plain": [
       "      temperature           createdAt\n",
       "0            23.2 2024-01-11 00:24:40\n",
       "1            23.2 2024-01-11 00:24:35\n",
       "2            23.1 2024-01-11 00:24:30\n",
       "3            23.2 2024-01-11 00:24:25\n",
       "4            23.2 2024-01-11 00:24:20\n",
       "...           ...                 ...\n",
       "3728         24.0 2024-01-10 18:59:54\n",
       "3729         23.9 2024-01-10 18:59:49\n",
       "3730         23.5 2024-01-10 18:59:44\n",
       "3731         23.5 2024-01-10 18:59:21\n",
       "3732         23.5 2024-01-10 18:59:16\n",
       "\n",
       "[3733 rows x 2 columns]"
      ]
     },
     "execution_count": 73,
     "metadata": {},
     "output_type": "execute_result"
    }
   ],
   "source": [
    "df = df.drop_duplicates(subset=['createdAt'], keep='last').reset_index(drop=True)\n",
    "df"
   ]
  },
  {
   "cell_type": "code",
   "execution_count": 74,
   "metadata": {},
   "outputs": [
    {
     "data": {
      "text/html": [
       "<div>\n",
       "<style scoped>\n",
       "    .dataframe tbody tr th:only-of-type {\n",
       "        vertical-align: middle;\n",
       "    }\n",
       "\n",
       "    .dataframe tbody tr th {\n",
       "        vertical-align: top;\n",
       "    }\n",
       "\n",
       "    .dataframe thead th {\n",
       "        text-align: right;\n",
       "    }\n",
       "</style>\n",
       "<table border=\"1\" class=\"dataframe\">\n",
       "  <thead>\n",
       "    <tr style=\"text-align: right;\">\n",
       "      <th></th>\n",
       "      <th>createdAt</th>\n",
       "      <th>temperature</th>\n",
       "    </tr>\n",
       "  </thead>\n",
       "  <tbody>\n",
       "    <tr>\n",
       "      <th>0</th>\n",
       "      <td>2024-01-10 18:58:00</td>\n",
       "      <td>23.733333</td>\n",
       "    </tr>\n",
       "    <tr>\n",
       "      <th>1</th>\n",
       "      <td>2024-01-10 19:00:00</td>\n",
       "      <td>24.187500</td>\n",
       "    </tr>\n",
       "    <tr>\n",
       "      <th>2</th>\n",
       "      <td>2024-01-10 19:02:00</td>\n",
       "      <td>24.160000</td>\n",
       "    </tr>\n",
       "    <tr>\n",
       "      <th>3</th>\n",
       "      <td>2024-01-10 19:04:00</td>\n",
       "      <td>25.550000</td>\n",
       "    </tr>\n",
       "    <tr>\n",
       "      <th>4</th>\n",
       "      <td>2024-01-10 19:06:00</td>\n",
       "      <td>26.280952</td>\n",
       "    </tr>\n",
       "    <tr>\n",
       "      <th>...</th>\n",
       "      <td>...</td>\n",
       "      <td>...</td>\n",
       "    </tr>\n",
       "    <tr>\n",
       "      <th>159</th>\n",
       "      <td>2024-01-11 00:16:00</td>\n",
       "      <td>23.450000</td>\n",
       "    </tr>\n",
       "    <tr>\n",
       "      <th>160</th>\n",
       "      <td>2024-01-11 00:18:00</td>\n",
       "      <td>23.354167</td>\n",
       "    </tr>\n",
       "    <tr>\n",
       "      <th>161</th>\n",
       "      <td>2024-01-11 00:20:00</td>\n",
       "      <td>23.308333</td>\n",
       "    </tr>\n",
       "    <tr>\n",
       "      <th>162</th>\n",
       "      <td>2024-01-11 00:22:00</td>\n",
       "      <td>23.245833</td>\n",
       "    </tr>\n",
       "    <tr>\n",
       "      <th>163</th>\n",
       "      <td>2024-01-11 00:24:00</td>\n",
       "      <td>23.211111</td>\n",
       "    </tr>\n",
       "  </tbody>\n",
       "</table>\n",
       "<p>164 rows × 2 columns</p>\n",
       "</div>"
      ],
      "text/plain": [
       "              createdAt  temperature\n",
       "0   2024-01-10 18:58:00    23.733333\n",
       "1   2024-01-10 19:00:00    24.187500\n",
       "2   2024-01-10 19:02:00    24.160000\n",
       "3   2024-01-10 19:04:00    25.550000\n",
       "4   2024-01-10 19:06:00    26.280952\n",
       "..                  ...          ...\n",
       "159 2024-01-11 00:16:00    23.450000\n",
       "160 2024-01-11 00:18:00    23.354167\n",
       "161 2024-01-11 00:20:00    23.308333\n",
       "162 2024-01-11 00:22:00    23.245833\n",
       "163 2024-01-11 00:24:00    23.211111\n",
       "\n",
       "[164 rows x 2 columns]"
      ]
     },
     "execution_count": 74,
     "metadata": {},
     "output_type": "execute_result"
    }
   ],
   "source": [
    "df = df.set_index('createdAt')\n",
    "df = df.resample('2min').mean().reset_index()\n",
    "df"
   ]
  },
  {
   "cell_type": "code",
   "execution_count": 75,
   "metadata": {},
   "outputs": [
    {
     "data": {
      "text/html": [
       "<div>\n",
       "<style scoped>\n",
       "    .dataframe tbody tr th:only-of-type {\n",
       "        vertical-align: middle;\n",
       "    }\n",
       "\n",
       "    .dataframe tbody tr th {\n",
       "        vertical-align: top;\n",
       "    }\n",
       "\n",
       "    .dataframe thead th {\n",
       "        text-align: right;\n",
       "    }\n",
       "</style>\n",
       "<table border=\"1\" class=\"dataframe\">\n",
       "  <thead>\n",
       "    <tr style=\"text-align: right;\">\n",
       "      <th></th>\n",
       "      <th>createdAt</th>\n",
       "      <th>temperature</th>\n",
       "    </tr>\n",
       "  </thead>\n",
       "  <tbody>\n",
       "    <tr>\n",
       "      <th>0</th>\n",
       "      <td>2024-01-10 18:58:00</td>\n",
       "      <td>23.733333</td>\n",
       "    </tr>\n",
       "    <tr>\n",
       "      <th>1</th>\n",
       "      <td>2024-01-10 19:00:00</td>\n",
       "      <td>24.187500</td>\n",
       "    </tr>\n",
       "    <tr>\n",
       "      <th>2</th>\n",
       "      <td>2024-01-10 19:02:00</td>\n",
       "      <td>24.160000</td>\n",
       "    </tr>\n",
       "    <tr>\n",
       "      <th>3</th>\n",
       "      <td>2024-01-10 19:04:00</td>\n",
       "      <td>25.550000</td>\n",
       "    </tr>\n",
       "    <tr>\n",
       "      <th>4</th>\n",
       "      <td>2024-01-10 19:06:00</td>\n",
       "      <td>26.280952</td>\n",
       "    </tr>\n",
       "    <tr>\n",
       "      <th>...</th>\n",
       "      <td>...</td>\n",
       "      <td>...</td>\n",
       "    </tr>\n",
       "    <tr>\n",
       "      <th>159</th>\n",
       "      <td>2024-01-11 00:16:00</td>\n",
       "      <td>23.450000</td>\n",
       "    </tr>\n",
       "    <tr>\n",
       "      <th>160</th>\n",
       "      <td>2024-01-11 00:18:00</td>\n",
       "      <td>23.354167</td>\n",
       "    </tr>\n",
       "    <tr>\n",
       "      <th>161</th>\n",
       "      <td>2024-01-11 00:20:00</td>\n",
       "      <td>23.308333</td>\n",
       "    </tr>\n",
       "    <tr>\n",
       "      <th>162</th>\n",
       "      <td>2024-01-11 00:22:00</td>\n",
       "      <td>23.245833</td>\n",
       "    </tr>\n",
       "    <tr>\n",
       "      <th>163</th>\n",
       "      <td>2024-01-11 00:24:00</td>\n",
       "      <td>23.211111</td>\n",
       "    </tr>\n",
       "  </tbody>\n",
       "</table>\n",
       "<p>164 rows × 2 columns</p>\n",
       "</div>"
      ],
      "text/plain": [
       "              createdAt  temperature\n",
       "0   2024-01-10 18:58:00    23.733333\n",
       "1   2024-01-10 19:00:00    24.187500\n",
       "2   2024-01-10 19:02:00    24.160000\n",
       "3   2024-01-10 19:04:00    25.550000\n",
       "4   2024-01-10 19:06:00    26.280952\n",
       "..                  ...          ...\n",
       "159 2024-01-11 00:16:00    23.450000\n",
       "160 2024-01-11 00:18:00    23.354167\n",
       "161 2024-01-11 00:20:00    23.308333\n",
       "162 2024-01-11 00:22:00    23.245833\n",
       "163 2024-01-11 00:24:00    23.211111\n",
       "\n",
       "[164 rows x 2 columns]"
      ]
     },
     "execution_count": 75,
     "metadata": {},
     "output_type": "execute_result"
    }
   ],
   "source": [
    "df[\"temperature\"] = df[\"temperature\"].fillna(method='ffill')\n",
    "df"
   ]
  },
  {
   "cell_type": "code",
   "execution_count": 76,
   "metadata": {},
   "outputs": [
    {
     "data": {
      "text/html": [
       "<div>\n",
       "<style scoped>\n",
       "    .dataframe tbody tr th:only-of-type {\n",
       "        vertical-align: middle;\n",
       "    }\n",
       "\n",
       "    .dataframe tbody tr th {\n",
       "        vertical-align: top;\n",
       "    }\n",
       "\n",
       "    .dataframe thead th {\n",
       "        text-align: right;\n",
       "    }\n",
       "</style>\n",
       "<table border=\"1\" class=\"dataframe\">\n",
       "  <thead>\n",
       "    <tr style=\"text-align: right;\">\n",
       "      <th></th>\n",
       "      <th>temperature</th>\n",
       "    </tr>\n",
       "    <tr>\n",
       "      <th>createdAt</th>\n",
       "      <th></th>\n",
       "    </tr>\n",
       "  </thead>\n",
       "  <tbody>\n",
       "    <tr>\n",
       "      <th>2024-01-10 18:58</th>\n",
       "      <td>23.733333</td>\n",
       "    </tr>\n",
       "    <tr>\n",
       "      <th>2024-01-10 19:00</th>\n",
       "      <td>24.187500</td>\n",
       "    </tr>\n",
       "    <tr>\n",
       "      <th>2024-01-10 19:02</th>\n",
       "      <td>24.160000</td>\n",
       "    </tr>\n",
       "    <tr>\n",
       "      <th>2024-01-10 19:04</th>\n",
       "      <td>25.550000</td>\n",
       "    </tr>\n",
       "    <tr>\n",
       "      <th>2024-01-10 19:06</th>\n",
       "      <td>26.280952</td>\n",
       "    </tr>\n",
       "    <tr>\n",
       "      <th>...</th>\n",
       "      <td>...</td>\n",
       "    </tr>\n",
       "    <tr>\n",
       "      <th>2024-01-11 00:16</th>\n",
       "      <td>23.450000</td>\n",
       "    </tr>\n",
       "    <tr>\n",
       "      <th>2024-01-11 00:18</th>\n",
       "      <td>23.354167</td>\n",
       "    </tr>\n",
       "    <tr>\n",
       "      <th>2024-01-11 00:20</th>\n",
       "      <td>23.308333</td>\n",
       "    </tr>\n",
       "    <tr>\n",
       "      <th>2024-01-11 00:22</th>\n",
       "      <td>23.245833</td>\n",
       "    </tr>\n",
       "    <tr>\n",
       "      <th>2024-01-11 00:24</th>\n",
       "      <td>23.211111</td>\n",
       "    </tr>\n",
       "  </tbody>\n",
       "</table>\n",
       "<p>164 rows × 1 columns</p>\n",
       "</div>"
      ],
      "text/plain": [
       "                  temperature\n",
       "createdAt                    \n",
       "2024-01-10 18:58    23.733333\n",
       "2024-01-10 19:00    24.187500\n",
       "2024-01-10 19:02    24.160000\n",
       "2024-01-10 19:04    25.550000\n",
       "2024-01-10 19:06    26.280952\n",
       "...                       ...\n",
       "2024-01-11 00:16    23.450000\n",
       "2024-01-11 00:18    23.354167\n",
       "2024-01-11 00:20    23.308333\n",
       "2024-01-11 00:22    23.245833\n",
       "2024-01-11 00:24    23.211111\n",
       "\n",
       "[164 rows x 1 columns]"
      ]
     },
     "execution_count": 76,
     "metadata": {},
     "output_type": "execute_result"
    }
   ],
   "source": [
    "df.index = pd.PeriodIndex(df[\"createdAt\"], freq='2min')\n",
    "df = df.drop(columns=['createdAt'])\n",
    "df"
   ]
  },
  {
   "cell_type": "code",
   "execution_count": 77,
   "metadata": {},
   "outputs": [
    {
     "data": {
      "text/html": [
       "<style type=\"text/css\">\n",
       "</style>\n",
       "<table id=\"T_02419\">\n",
       "  <thead>\n",
       "    <tr>\n",
       "      <th class=\"blank level0\" >&nbsp;</th>\n",
       "      <th id=\"T_02419_level0_col0\" class=\"col_heading level0 col0\" >Description</th>\n",
       "      <th id=\"T_02419_level0_col1\" class=\"col_heading level0 col1\" >Value</th>\n",
       "    </tr>\n",
       "  </thead>\n",
       "  <tbody>\n",
       "    <tr>\n",
       "      <th id=\"T_02419_level0_row0\" class=\"row_heading level0 row0\" >0</th>\n",
       "      <td id=\"T_02419_row0_col0\" class=\"data row0 col0\" >session_id</td>\n",
       "      <td id=\"T_02419_row0_col1\" class=\"data row0 col1\" >42</td>\n",
       "    </tr>\n",
       "    <tr>\n",
       "      <th id=\"T_02419_level0_row1\" class=\"row_heading level0 row1\" >1</th>\n",
       "      <td id=\"T_02419_row1_col0\" class=\"data row1 col0\" >Target</td>\n",
       "      <td id=\"T_02419_row1_col1\" class=\"data row1 col1\" >temperature</td>\n",
       "    </tr>\n",
       "    <tr>\n",
       "      <th id=\"T_02419_level0_row2\" class=\"row_heading level0 row2\" >2</th>\n",
       "      <td id=\"T_02419_row2_col0\" class=\"data row2 col0\" >Approach</td>\n",
       "      <td id=\"T_02419_row2_col1\" class=\"data row2 col1\" >Univariate</td>\n",
       "    </tr>\n",
       "    <tr>\n",
       "      <th id=\"T_02419_level0_row3\" class=\"row_heading level0 row3\" >3</th>\n",
       "      <td id=\"T_02419_row3_col0\" class=\"data row3 col0\" >Exogenous Variables</td>\n",
       "      <td id=\"T_02419_row3_col1\" class=\"data row3 col1\" >Not Present</td>\n",
       "    </tr>\n",
       "    <tr>\n",
       "      <th id=\"T_02419_level0_row4\" class=\"row_heading level0 row4\" >4</th>\n",
       "      <td id=\"T_02419_row4_col0\" class=\"data row4 col0\" >Original data shape</td>\n",
       "      <td id=\"T_02419_row4_col1\" class=\"data row4 col1\" >(164, 1)</td>\n",
       "    </tr>\n",
       "    <tr>\n",
       "      <th id=\"T_02419_level0_row5\" class=\"row_heading level0 row5\" >5</th>\n",
       "      <td id=\"T_02419_row5_col0\" class=\"data row5 col0\" >Transformed data shape</td>\n",
       "      <td id=\"T_02419_row5_col1\" class=\"data row5 col1\" >(164, 1)</td>\n",
       "    </tr>\n",
       "    <tr>\n",
       "      <th id=\"T_02419_level0_row6\" class=\"row_heading level0 row6\" >6</th>\n",
       "      <td id=\"T_02419_row6_col0\" class=\"data row6 col0\" >Transformed train set shape</td>\n",
       "      <td id=\"T_02419_row6_col1\" class=\"data row6 col1\" >(159, 1)</td>\n",
       "    </tr>\n",
       "    <tr>\n",
       "      <th id=\"T_02419_level0_row7\" class=\"row_heading level0 row7\" >7</th>\n",
       "      <td id=\"T_02419_row7_col0\" class=\"data row7 col0\" >Transformed test set shape</td>\n",
       "      <td id=\"T_02419_row7_col1\" class=\"data row7 col1\" >(5, 1)</td>\n",
       "    </tr>\n",
       "    <tr>\n",
       "      <th id=\"T_02419_level0_row8\" class=\"row_heading level0 row8\" >8</th>\n",
       "      <td id=\"T_02419_row8_col0\" class=\"data row8 col0\" >Rows with missing values</td>\n",
       "      <td id=\"T_02419_row8_col1\" class=\"data row8 col1\" >0.0%</td>\n",
       "    </tr>\n",
       "    <tr>\n",
       "      <th id=\"T_02419_level0_row9\" class=\"row_heading level0 row9\" >9</th>\n",
       "      <td id=\"T_02419_row9_col0\" class=\"data row9 col0\" >Fold Generator</td>\n",
       "      <td id=\"T_02419_row9_col1\" class=\"data row9 col1\" >ExpandingWindowSplitter</td>\n",
       "    </tr>\n",
       "    <tr>\n",
       "      <th id=\"T_02419_level0_row10\" class=\"row_heading level0 row10\" >10</th>\n",
       "      <td id=\"T_02419_row10_col0\" class=\"data row10 col0\" >Fold Number</td>\n",
       "      <td id=\"T_02419_row10_col1\" class=\"data row10 col1\" >4</td>\n",
       "    </tr>\n",
       "    <tr>\n",
       "      <th id=\"T_02419_level0_row11\" class=\"row_heading level0 row11\" >11</th>\n",
       "      <td id=\"T_02419_row11_col0\" class=\"data row11 col0\" >Enforce Prediction Interval</td>\n",
       "      <td id=\"T_02419_row11_col1\" class=\"data row11 col1\" >False</td>\n",
       "    </tr>\n",
       "    <tr>\n",
       "      <th id=\"T_02419_level0_row12\" class=\"row_heading level0 row12\" >12</th>\n",
       "      <td id=\"T_02419_row12_col0\" class=\"data row12 col0\" >Splits used for hyperparameters</td>\n",
       "      <td id=\"T_02419_row12_col1\" class=\"data row12 col1\" >all</td>\n",
       "    </tr>\n",
       "    <tr>\n",
       "      <th id=\"T_02419_level0_row13\" class=\"row_heading level0 row13\" >13</th>\n",
       "      <td id=\"T_02419_row13_col0\" class=\"data row13 col0\" >User Defined Seasonal Period(s)</td>\n",
       "      <td id=\"T_02419_row13_col1\" class=\"data row13 col1\" >None</td>\n",
       "    </tr>\n",
       "    <tr>\n",
       "      <th id=\"T_02419_level0_row14\" class=\"row_heading level0 row14\" >14</th>\n",
       "      <td id=\"T_02419_row14_col0\" class=\"data row14 col0\" >Ignore Seasonality Test</td>\n",
       "      <td id=\"T_02419_row14_col1\" class=\"data row14 col1\" >False</td>\n",
       "    </tr>\n",
       "    <tr>\n",
       "      <th id=\"T_02419_level0_row15\" class=\"row_heading level0 row15\" >15</th>\n",
       "      <td id=\"T_02419_row15_col0\" class=\"data row15 col0\" >Seasonality Detection Algo</td>\n",
       "      <td id=\"T_02419_row15_col1\" class=\"data row15 col1\" >auto</td>\n",
       "    </tr>\n",
       "    <tr>\n",
       "      <th id=\"T_02419_level0_row16\" class=\"row_heading level0 row16\" >16</th>\n",
       "      <td id=\"T_02419_row16_col0\" class=\"data row16 col0\" >Max Period to Consider</td>\n",
       "      <td id=\"T_02419_row16_col1\" class=\"data row16 col1\" >60</td>\n",
       "    </tr>\n",
       "    <tr>\n",
       "      <th id=\"T_02419_level0_row17\" class=\"row_heading level0 row17\" >17</th>\n",
       "      <td id=\"T_02419_row17_col0\" class=\"data row17 col0\" >Seasonal Period(s) Tested</td>\n",
       "      <td id=\"T_02419_row17_col1\" class=\"data row17 col1\" >[]</td>\n",
       "    </tr>\n",
       "    <tr>\n",
       "      <th id=\"T_02419_level0_row18\" class=\"row_heading level0 row18\" >18</th>\n",
       "      <td id=\"T_02419_row18_col0\" class=\"data row18 col0\" >Significant Seasonal Period(s)</td>\n",
       "      <td id=\"T_02419_row18_col1\" class=\"data row18 col1\" >[1]</td>\n",
       "    </tr>\n",
       "    <tr>\n",
       "      <th id=\"T_02419_level0_row19\" class=\"row_heading level0 row19\" >19</th>\n",
       "      <td id=\"T_02419_row19_col0\" class=\"data row19 col0\" >Significant Seasonal Period(s) without Harmonics</td>\n",
       "      <td id=\"T_02419_row19_col1\" class=\"data row19 col1\" >[1]</td>\n",
       "    </tr>\n",
       "    <tr>\n",
       "      <th id=\"T_02419_level0_row20\" class=\"row_heading level0 row20\" >20</th>\n",
       "      <td id=\"T_02419_row20_col0\" class=\"data row20 col0\" >Remove Harmonics</td>\n",
       "      <td id=\"T_02419_row20_col1\" class=\"data row20 col1\" >False</td>\n",
       "    </tr>\n",
       "    <tr>\n",
       "      <th id=\"T_02419_level0_row21\" class=\"row_heading level0 row21\" >21</th>\n",
       "      <td id=\"T_02419_row21_col0\" class=\"data row21 col0\" >Harmonics Order Method</td>\n",
       "      <td id=\"T_02419_row21_col1\" class=\"data row21 col1\" >harmonic_max</td>\n",
       "    </tr>\n",
       "    <tr>\n",
       "      <th id=\"T_02419_level0_row22\" class=\"row_heading level0 row22\" >22</th>\n",
       "      <td id=\"T_02419_row22_col0\" class=\"data row22 col0\" >Num Seasonalities to Use</td>\n",
       "      <td id=\"T_02419_row22_col1\" class=\"data row22 col1\" >1</td>\n",
       "    </tr>\n",
       "    <tr>\n",
       "      <th id=\"T_02419_level0_row23\" class=\"row_heading level0 row23\" >23</th>\n",
       "      <td id=\"T_02419_row23_col0\" class=\"data row23 col0\" >All Seasonalities to Use</td>\n",
       "      <td id=\"T_02419_row23_col1\" class=\"data row23 col1\" >[1]</td>\n",
       "    </tr>\n",
       "    <tr>\n",
       "      <th id=\"T_02419_level0_row24\" class=\"row_heading level0 row24\" >24</th>\n",
       "      <td id=\"T_02419_row24_col0\" class=\"data row24 col0\" >Primary Seasonality</td>\n",
       "      <td id=\"T_02419_row24_col1\" class=\"data row24 col1\" >1</td>\n",
       "    </tr>\n",
       "    <tr>\n",
       "      <th id=\"T_02419_level0_row25\" class=\"row_heading level0 row25\" >25</th>\n",
       "      <td id=\"T_02419_row25_col0\" class=\"data row25 col0\" >Seasonality Present</td>\n",
       "      <td id=\"T_02419_row25_col1\" class=\"data row25 col1\" >False</td>\n",
       "    </tr>\n",
       "    <tr>\n",
       "      <th id=\"T_02419_level0_row26\" class=\"row_heading level0 row26\" >26</th>\n",
       "      <td id=\"T_02419_row26_col0\" class=\"data row26 col0\" >Seasonality Type</td>\n",
       "      <td id=\"T_02419_row26_col1\" class=\"data row26 col1\" >None</td>\n",
       "    </tr>\n",
       "    <tr>\n",
       "      <th id=\"T_02419_level0_row27\" class=\"row_heading level0 row27\" >27</th>\n",
       "      <td id=\"T_02419_row27_col0\" class=\"data row27 col0\" >Target Strictly Positive</td>\n",
       "      <td id=\"T_02419_row27_col1\" class=\"data row27 col1\" >True</td>\n",
       "    </tr>\n",
       "    <tr>\n",
       "      <th id=\"T_02419_level0_row28\" class=\"row_heading level0 row28\" >28</th>\n",
       "      <td id=\"T_02419_row28_col0\" class=\"data row28 col0\" >Target White Noise</td>\n",
       "      <td id=\"T_02419_row28_col1\" class=\"data row28 col1\" >No</td>\n",
       "    </tr>\n",
       "    <tr>\n",
       "      <th id=\"T_02419_level0_row29\" class=\"row_heading level0 row29\" >29</th>\n",
       "      <td id=\"T_02419_row29_col0\" class=\"data row29 col0\" >Recommended d</td>\n",
       "      <td id=\"T_02419_row29_col1\" class=\"data row29 col1\" >1</td>\n",
       "    </tr>\n",
       "    <tr>\n",
       "      <th id=\"T_02419_level0_row30\" class=\"row_heading level0 row30\" >30</th>\n",
       "      <td id=\"T_02419_row30_col0\" class=\"data row30 col0\" >Recommended Seasonal D</td>\n",
       "      <td id=\"T_02419_row30_col1\" class=\"data row30 col1\" >0</td>\n",
       "    </tr>\n",
       "    <tr>\n",
       "      <th id=\"T_02419_level0_row31\" class=\"row_heading level0 row31\" >31</th>\n",
       "      <td id=\"T_02419_row31_col0\" class=\"data row31 col0\" >Preprocess</td>\n",
       "      <td id=\"T_02419_row31_col1\" class=\"data row31 col1\" >False</td>\n",
       "    </tr>\n",
       "    <tr>\n",
       "      <th id=\"T_02419_level0_row32\" class=\"row_heading level0 row32\" >32</th>\n",
       "      <td id=\"T_02419_row32_col0\" class=\"data row32 col0\" >CPU Jobs</td>\n",
       "      <td id=\"T_02419_row32_col1\" class=\"data row32 col1\" >-1</td>\n",
       "    </tr>\n",
       "    <tr>\n",
       "      <th id=\"T_02419_level0_row33\" class=\"row_heading level0 row33\" >33</th>\n",
       "      <td id=\"T_02419_row33_col0\" class=\"data row33 col0\" >Use GPU</td>\n",
       "      <td id=\"T_02419_row33_col1\" class=\"data row33 col1\" >False</td>\n",
       "    </tr>\n",
       "    <tr>\n",
       "      <th id=\"T_02419_level0_row34\" class=\"row_heading level0 row34\" >34</th>\n",
       "      <td id=\"T_02419_row34_col0\" class=\"data row34 col0\" >Log Experiment</td>\n",
       "      <td id=\"T_02419_row34_col1\" class=\"data row34 col1\" >False</td>\n",
       "    </tr>\n",
       "    <tr>\n",
       "      <th id=\"T_02419_level0_row35\" class=\"row_heading level0 row35\" >35</th>\n",
       "      <td id=\"T_02419_row35_col0\" class=\"data row35 col0\" >Experiment Name</td>\n",
       "      <td id=\"T_02419_row35_col1\" class=\"data row35 col1\" >ts-default-name</td>\n",
       "    </tr>\n",
       "    <tr>\n",
       "      <th id=\"T_02419_level0_row36\" class=\"row_heading level0 row36\" >36</th>\n",
       "      <td id=\"T_02419_row36_col0\" class=\"data row36 col0\" >USI</td>\n",
       "      <td id=\"T_02419_row36_col1\" class=\"data row36 col1\" >3586</td>\n",
       "    </tr>\n",
       "  </tbody>\n",
       "</table>\n"
      ],
      "text/plain": [
       "<pandas.io.formats.style.Styler at 0x1c6628af160>"
      ]
     },
     "metadata": {},
     "output_type": "display_data"
    },
    {
     "data": {
      "text/plain": [
       "<pycaret.time_series.forecasting.oop.TSForecastingExperiment at 0x1c6627fd3c0>"
      ]
     },
     "execution_count": 77,
     "metadata": {},
     "output_type": "execute_result"
    }
   ],
   "source": [
    "from pycaret.time_series import TSForecastingExperiment\n",
    "\n",
    "exp_ts = TSForecastingExperiment()\n",
    "\n",
    "exp_ts.setup(\n",
    "    data=df,\n",
    "    target=\"temperature\",\n",
    "    fh=5,\n",
    "    fold_strategy='expanding',\n",
    "    fold=4,\n",
    "    session_id=42,\n",
    ")"
   ]
  },
  {
   "cell_type": "code",
   "execution_count": 78,
   "metadata": {},
   "outputs": [
    {
     "data": {
      "text/html": [
       "<div>\n",
       "<style scoped>\n",
       "    .dataframe tbody tr th:only-of-type {\n",
       "        vertical-align: middle;\n",
       "    }\n",
       "\n",
       "    .dataframe tbody tr th {\n",
       "        vertical-align: top;\n",
       "    }\n",
       "\n",
       "    .dataframe thead th {\n",
       "        text-align: right;\n",
       "    }\n",
       "</style>\n",
       "<table border=\"1\" class=\"dataframe\">\n",
       "  <thead>\n",
       "    <tr style=\"text-align: right;\">\n",
       "      <th></th>\n",
       "      <th>Test</th>\n",
       "      <th>Test Name</th>\n",
       "      <th>Data</th>\n",
       "      <th>Property</th>\n",
       "      <th>Setting</th>\n",
       "      <th>Value</th>\n",
       "    </tr>\n",
       "  </thead>\n",
       "  <tbody>\n",
       "    <tr>\n",
       "      <th>0</th>\n",
       "      <td>Summary</td>\n",
       "      <td>Statistics</td>\n",
       "      <td>Transformed</td>\n",
       "      <td>Length</td>\n",
       "      <td></td>\n",
       "      <td>164.0</td>\n",
       "    </tr>\n",
       "    <tr>\n",
       "      <th>1</th>\n",
       "      <td>Summary</td>\n",
       "      <td>Statistics</td>\n",
       "      <td>Transformed</td>\n",
       "      <td># Missing Values</td>\n",
       "      <td></td>\n",
       "      <td>0.0</td>\n",
       "    </tr>\n",
       "    <tr>\n",
       "      <th>2</th>\n",
       "      <td>Summary</td>\n",
       "      <td>Statistics</td>\n",
       "      <td>Transformed</td>\n",
       "      <td>Mean</td>\n",
       "      <td></td>\n",
       "      <td>24.324688</td>\n",
       "    </tr>\n",
       "    <tr>\n",
       "      <th>3</th>\n",
       "      <td>Summary</td>\n",
       "      <td>Statistics</td>\n",
       "      <td>Transformed</td>\n",
       "      <td>Median</td>\n",
       "      <td></td>\n",
       "      <td>23.970833</td>\n",
       "    </tr>\n",
       "    <tr>\n",
       "      <th>4</th>\n",
       "      <td>Summary</td>\n",
       "      <td>Statistics</td>\n",
       "      <td>Transformed</td>\n",
       "      <td>Standard Deviation</td>\n",
       "      <td></td>\n",
       "      <td>0.907174</td>\n",
       "    </tr>\n",
       "    <tr>\n",
       "      <th>5</th>\n",
       "      <td>Summary</td>\n",
       "      <td>Statistics</td>\n",
       "      <td>Transformed</td>\n",
       "      <td>Variance</td>\n",
       "      <td></td>\n",
       "      <td>0.822965</td>\n",
       "    </tr>\n",
       "    <tr>\n",
       "      <th>6</th>\n",
       "      <td>Summary</td>\n",
       "      <td>Statistics</td>\n",
       "      <td>Transformed</td>\n",
       "      <td>Kurtosis</td>\n",
       "      <td></td>\n",
       "      <td>2.254304</td>\n",
       "    </tr>\n",
       "    <tr>\n",
       "      <th>7</th>\n",
       "      <td>Summary</td>\n",
       "      <td>Statistics</td>\n",
       "      <td>Transformed</td>\n",
       "      <td>Skewness</td>\n",
       "      <td></td>\n",
       "      <td>1.808602</td>\n",
       "    </tr>\n",
       "    <tr>\n",
       "      <th>8</th>\n",
       "      <td>Summary</td>\n",
       "      <td>Statistics</td>\n",
       "      <td>Transformed</td>\n",
       "      <td># Distinct Values</td>\n",
       "      <td></td>\n",
       "      <td>140.0</td>\n",
       "    </tr>\n",
       "    <tr>\n",
       "      <th>9</th>\n",
       "      <td>White Noise</td>\n",
       "      <td>Ljung-Box</td>\n",
       "      <td>Transformed</td>\n",
       "      <td>Test Statictic</td>\n",
       "      <td>{'alpha': 0.05, 'K': 24}</td>\n",
       "      <td>714.031499</td>\n",
       "    </tr>\n",
       "    <tr>\n",
       "      <th>10</th>\n",
       "      <td>White Noise</td>\n",
       "      <td>Ljung-Box</td>\n",
       "      <td>Transformed</td>\n",
       "      <td>Test Statictic</td>\n",
       "      <td>{'alpha': 0.05, 'K': 48}</td>\n",
       "      <td>758.864291</td>\n",
       "    </tr>\n",
       "    <tr>\n",
       "      <th>11</th>\n",
       "      <td>White Noise</td>\n",
       "      <td>Ljung-Box</td>\n",
       "      <td>Transformed</td>\n",
       "      <td>p-value</td>\n",
       "      <td>{'alpha': 0.05, 'K': 24}</td>\n",
       "      <td>0.0</td>\n",
       "    </tr>\n",
       "    <tr>\n",
       "      <th>12</th>\n",
       "      <td>White Noise</td>\n",
       "      <td>Ljung-Box</td>\n",
       "      <td>Transformed</td>\n",
       "      <td>p-value</td>\n",
       "      <td>{'alpha': 0.05, 'K': 48}</td>\n",
       "      <td>0.0</td>\n",
       "    </tr>\n",
       "    <tr>\n",
       "      <th>13</th>\n",
       "      <td>White Noise</td>\n",
       "      <td>Ljung-Box</td>\n",
       "      <td>Transformed</td>\n",
       "      <td>White Noise</td>\n",
       "      <td>{'alpha': 0.05, 'K': 24}</td>\n",
       "      <td>False</td>\n",
       "    </tr>\n",
       "    <tr>\n",
       "      <th>14</th>\n",
       "      <td>White Noise</td>\n",
       "      <td>Ljung-Box</td>\n",
       "      <td>Transformed</td>\n",
       "      <td>White Noise</td>\n",
       "      <td>{'alpha': 0.05, 'K': 48}</td>\n",
       "      <td>False</td>\n",
       "    </tr>\n",
       "    <tr>\n",
       "      <th>15</th>\n",
       "      <td>Stationarity</td>\n",
       "      <td>ADF</td>\n",
       "      <td>Transformed</td>\n",
       "      <td>Stationarity</td>\n",
       "      <td>{'alpha': 0.05}</td>\n",
       "      <td>True</td>\n",
       "    </tr>\n",
       "    <tr>\n",
       "      <th>16</th>\n",
       "      <td>Stationarity</td>\n",
       "      <td>ADF</td>\n",
       "      <td>Transformed</td>\n",
       "      <td>p-value</td>\n",
       "      <td>{'alpha': 0.05}</td>\n",
       "      <td>0.036766</td>\n",
       "    </tr>\n",
       "    <tr>\n",
       "      <th>17</th>\n",
       "      <td>Stationarity</td>\n",
       "      <td>ADF</td>\n",
       "      <td>Transformed</td>\n",
       "      <td>Test Statistic</td>\n",
       "      <td>{'alpha': 0.05}</td>\n",
       "      <td>-2.980393</td>\n",
       "    </tr>\n",
       "    <tr>\n",
       "      <th>18</th>\n",
       "      <td>Stationarity</td>\n",
       "      <td>ADF</td>\n",
       "      <td>Transformed</td>\n",
       "      <td>Critical Value 1%</td>\n",
       "      <td>{'alpha': 0.05}</td>\n",
       "      <td>-3.472703</td>\n",
       "    </tr>\n",
       "    <tr>\n",
       "      <th>19</th>\n",
       "      <td>Stationarity</td>\n",
       "      <td>ADF</td>\n",
       "      <td>Transformed</td>\n",
       "      <td>Critical Value 5%</td>\n",
       "      <td>{'alpha': 0.05}</td>\n",
       "      <td>-2.880132</td>\n",
       "    </tr>\n",
       "    <tr>\n",
       "      <th>20</th>\n",
       "      <td>Stationarity</td>\n",
       "      <td>ADF</td>\n",
       "      <td>Transformed</td>\n",
       "      <td>Critical Value 10%</td>\n",
       "      <td>{'alpha': 0.05}</td>\n",
       "      <td>-2.576683</td>\n",
       "    </tr>\n",
       "    <tr>\n",
       "      <th>21</th>\n",
       "      <td>Stationarity</td>\n",
       "      <td>KPSS</td>\n",
       "      <td>Transformed</td>\n",
       "      <td>Trend Stationarity</td>\n",
       "      <td>{'alpha': 0.05}</td>\n",
       "      <td>True</td>\n",
       "    </tr>\n",
       "    <tr>\n",
       "      <th>22</th>\n",
       "      <td>Stationarity</td>\n",
       "      <td>KPSS</td>\n",
       "      <td>Transformed</td>\n",
       "      <td>p-value</td>\n",
       "      <td>{'alpha': 0.05}</td>\n",
       "      <td>0.1</td>\n",
       "    </tr>\n",
       "    <tr>\n",
       "      <th>23</th>\n",
       "      <td>Stationarity</td>\n",
       "      <td>KPSS</td>\n",
       "      <td>Transformed</td>\n",
       "      <td>Test Statistic</td>\n",
       "      <td>{'alpha': 0.05}</td>\n",
       "      <td>0.101032</td>\n",
       "    </tr>\n",
       "    <tr>\n",
       "      <th>24</th>\n",
       "      <td>Stationarity</td>\n",
       "      <td>KPSS</td>\n",
       "      <td>Transformed</td>\n",
       "      <td>Critical Value 10%</td>\n",
       "      <td>{'alpha': 0.05}</td>\n",
       "      <td>0.119</td>\n",
       "    </tr>\n",
       "    <tr>\n",
       "      <th>25</th>\n",
       "      <td>Stationarity</td>\n",
       "      <td>KPSS</td>\n",
       "      <td>Transformed</td>\n",
       "      <td>Critical Value 5%</td>\n",
       "      <td>{'alpha': 0.05}</td>\n",
       "      <td>0.146</td>\n",
       "    </tr>\n",
       "    <tr>\n",
       "      <th>26</th>\n",
       "      <td>Stationarity</td>\n",
       "      <td>KPSS</td>\n",
       "      <td>Transformed</td>\n",
       "      <td>Critical Value 2.5%</td>\n",
       "      <td>{'alpha': 0.05}</td>\n",
       "      <td>0.176</td>\n",
       "    </tr>\n",
       "    <tr>\n",
       "      <th>27</th>\n",
       "      <td>Stationarity</td>\n",
       "      <td>KPSS</td>\n",
       "      <td>Transformed</td>\n",
       "      <td>Critical Value 1%</td>\n",
       "      <td>{'alpha': 0.05}</td>\n",
       "      <td>0.216</td>\n",
       "    </tr>\n",
       "    <tr>\n",
       "      <th>28</th>\n",
       "      <td>Normality</td>\n",
       "      <td>Shapiro</td>\n",
       "      <td>Transformed</td>\n",
       "      <td>Normality</td>\n",
       "      <td>{'alpha': 0.05}</td>\n",
       "      <td>False</td>\n",
       "    </tr>\n",
       "    <tr>\n",
       "      <th>29</th>\n",
       "      <td>Normality</td>\n",
       "      <td>Shapiro</td>\n",
       "      <td>Transformed</td>\n",
       "      <td>p-value</td>\n",
       "      <td>{'alpha': 0.05}</td>\n",
       "      <td>0.0</td>\n",
       "    </tr>\n",
       "  </tbody>\n",
       "</table>\n",
       "</div>"
      ],
      "text/plain": [
       "            Test   Test Name         Data             Property  \\\n",
       "0        Summary  Statistics  Transformed               Length   \n",
       "1        Summary  Statistics  Transformed     # Missing Values   \n",
       "2        Summary  Statistics  Transformed                 Mean   \n",
       "3        Summary  Statistics  Transformed               Median   \n",
       "4        Summary  Statistics  Transformed   Standard Deviation   \n",
       "5        Summary  Statistics  Transformed             Variance   \n",
       "6        Summary  Statistics  Transformed             Kurtosis   \n",
       "7        Summary  Statistics  Transformed             Skewness   \n",
       "8        Summary  Statistics  Transformed    # Distinct Values   \n",
       "9    White Noise   Ljung-Box  Transformed       Test Statictic   \n",
       "10   White Noise   Ljung-Box  Transformed       Test Statictic   \n",
       "11   White Noise   Ljung-Box  Transformed              p-value   \n",
       "12   White Noise   Ljung-Box  Transformed              p-value   \n",
       "13   White Noise   Ljung-Box  Transformed          White Noise   \n",
       "14   White Noise   Ljung-Box  Transformed          White Noise   \n",
       "15  Stationarity         ADF  Transformed         Stationarity   \n",
       "16  Stationarity         ADF  Transformed              p-value   \n",
       "17  Stationarity         ADF  Transformed       Test Statistic   \n",
       "18  Stationarity         ADF  Transformed    Critical Value 1%   \n",
       "19  Stationarity         ADF  Transformed    Critical Value 5%   \n",
       "20  Stationarity         ADF  Transformed   Critical Value 10%   \n",
       "21  Stationarity        KPSS  Transformed   Trend Stationarity   \n",
       "22  Stationarity        KPSS  Transformed              p-value   \n",
       "23  Stationarity        KPSS  Transformed       Test Statistic   \n",
       "24  Stationarity        KPSS  Transformed   Critical Value 10%   \n",
       "25  Stationarity        KPSS  Transformed    Critical Value 5%   \n",
       "26  Stationarity        KPSS  Transformed  Critical Value 2.5%   \n",
       "27  Stationarity        KPSS  Transformed    Critical Value 1%   \n",
       "28     Normality     Shapiro  Transformed            Normality   \n",
       "29     Normality     Shapiro  Transformed              p-value   \n",
       "\n",
       "                     Setting       Value  \n",
       "0                                  164.0  \n",
       "1                                    0.0  \n",
       "2                              24.324688  \n",
       "3                              23.970833  \n",
       "4                               0.907174  \n",
       "5                               0.822965  \n",
       "6                               2.254304  \n",
       "7                               1.808602  \n",
       "8                                  140.0  \n",
       "9   {'alpha': 0.05, 'K': 24}  714.031499  \n",
       "10  {'alpha': 0.05, 'K': 48}  758.864291  \n",
       "11  {'alpha': 0.05, 'K': 24}         0.0  \n",
       "12  {'alpha': 0.05, 'K': 48}         0.0  \n",
       "13  {'alpha': 0.05, 'K': 24}       False  \n",
       "14  {'alpha': 0.05, 'K': 48}       False  \n",
       "15           {'alpha': 0.05}        True  \n",
       "16           {'alpha': 0.05}    0.036766  \n",
       "17           {'alpha': 0.05}   -2.980393  \n",
       "18           {'alpha': 0.05}   -3.472703  \n",
       "19           {'alpha': 0.05}   -2.880132  \n",
       "20           {'alpha': 0.05}   -2.576683  \n",
       "21           {'alpha': 0.05}        True  \n",
       "22           {'alpha': 0.05}         0.1  \n",
       "23           {'alpha': 0.05}    0.101032  \n",
       "24           {'alpha': 0.05}       0.119  \n",
       "25           {'alpha': 0.05}       0.146  \n",
       "26           {'alpha': 0.05}       0.176  \n",
       "27           {'alpha': 0.05}       0.216  \n",
       "28           {'alpha': 0.05}       False  \n",
       "29           {'alpha': 0.05}         0.0  "
      ]
     },
     "execution_count": 78,
     "metadata": {},
     "output_type": "execute_result"
    }
   ],
   "source": [
    "exp_ts.check_stats()"
   ]
  },
  {
   "cell_type": "code",
   "execution_count": 79,
   "metadata": {},
   "outputs": [
    {
     "data": {
      "application/vnd.plotly.v1+json": {
       "config": {
        "plotlyServerURL": "https://plot.ly"
       },
       "data": [
        {
         "line": {
          "color": "rgb(31, 119, 180)",
          "width": 2
         },
         "marker": {
          "color": "rgb(31, 119, 180)",
          "size": 5
         },
         "mode": "lines+markers",
         "name": "temperature (transformed)",
         "showlegend": false,
         "type": "scattergl",
         "x": [
          "2024-01-10T18:58:00",
          "2024-01-10T19:00:00",
          "2024-01-10T19:02:00",
          "2024-01-10T19:04:00",
          "2024-01-10T19:06:00",
          "2024-01-10T19:08:00",
          "2024-01-10T19:10:00",
          "2024-01-10T19:12:00",
          "2024-01-10T19:14:00",
          "2024-01-10T19:16:00",
          "2024-01-10T19:18:00",
          "2024-01-10T19:20:00",
          "2024-01-10T19:22:00",
          "2024-01-10T19:24:00",
          "2024-01-10T19:26:00",
          "2024-01-10T19:28:00",
          "2024-01-10T19:30:00",
          "2024-01-10T19:32:00",
          "2024-01-10T19:34:00",
          "2024-01-10T19:36:00",
          "2024-01-10T19:38:00",
          "2024-01-10T19:40:00",
          "2024-01-10T19:42:00",
          "2024-01-10T19:44:00",
          "2024-01-10T19:46:00",
          "2024-01-10T19:48:00",
          "2024-01-10T19:50:00",
          "2024-01-10T19:52:00",
          "2024-01-10T19:54:00",
          "2024-01-10T19:56:00",
          "2024-01-10T19:58:00",
          "2024-01-10T20:00:00",
          "2024-01-10T20:02:00",
          "2024-01-10T20:04:00",
          "2024-01-10T20:06:00",
          "2024-01-10T20:08:00",
          "2024-01-10T20:10:00",
          "2024-01-10T20:12:00",
          "2024-01-10T20:14:00",
          "2024-01-10T20:16:00",
          "2024-01-10T20:18:00",
          "2024-01-10T20:20:00",
          "2024-01-10T20:22:00",
          "2024-01-10T20:24:00",
          "2024-01-10T20:26:00",
          "2024-01-10T20:28:00",
          "2024-01-10T20:30:00",
          "2024-01-10T20:32:00",
          "2024-01-10T20:34:00",
          "2024-01-10T20:36:00",
          "2024-01-10T20:38:00",
          "2024-01-10T20:40:00",
          "2024-01-10T20:42:00",
          "2024-01-10T20:44:00",
          "2024-01-10T20:46:00",
          "2024-01-10T20:48:00",
          "2024-01-10T20:50:00",
          "2024-01-10T20:52:00",
          "2024-01-10T20:54:00",
          "2024-01-10T20:56:00",
          "2024-01-10T20:58:00",
          "2024-01-10T21:00:00",
          "2024-01-10T21:02:00",
          "2024-01-10T21:04:00",
          "2024-01-10T21:06:00",
          "2024-01-10T21:08:00",
          "2024-01-10T21:10:00",
          "2024-01-10T21:12:00",
          "2024-01-10T21:14:00",
          "2024-01-10T21:16:00",
          "2024-01-10T21:18:00",
          "2024-01-10T21:20:00",
          "2024-01-10T21:22:00",
          "2024-01-10T21:24:00",
          "2024-01-10T21:26:00",
          "2024-01-10T21:28:00",
          "2024-01-10T21:30:00",
          "2024-01-10T21:32:00",
          "2024-01-10T21:34:00",
          "2024-01-10T21:36:00",
          "2024-01-10T21:38:00",
          "2024-01-10T21:40:00",
          "2024-01-10T21:42:00",
          "2024-01-10T21:44:00",
          "2024-01-10T21:46:00",
          "2024-01-10T21:48:00",
          "2024-01-10T21:50:00",
          "2024-01-10T21:52:00",
          "2024-01-10T21:54:00",
          "2024-01-10T21:56:00",
          "2024-01-10T21:58:00",
          "2024-01-10T22:00:00",
          "2024-01-10T22:02:00",
          "2024-01-10T22:04:00",
          "2024-01-10T22:06:00",
          "2024-01-10T22:08:00",
          "2024-01-10T22:10:00",
          "2024-01-10T22:12:00",
          "2024-01-10T22:14:00",
          "2024-01-10T22:16:00",
          "2024-01-10T22:18:00",
          "2024-01-10T22:20:00",
          "2024-01-10T22:22:00",
          "2024-01-10T22:24:00",
          "2024-01-10T22:26:00",
          "2024-01-10T22:28:00",
          "2024-01-10T22:30:00",
          "2024-01-10T22:32:00",
          "2024-01-10T22:34:00",
          "2024-01-10T22:36:00",
          "2024-01-10T22:38:00",
          "2024-01-10T22:40:00",
          "2024-01-10T22:42:00",
          "2024-01-10T22:44:00",
          "2024-01-10T22:46:00",
          "2024-01-10T22:48:00",
          "2024-01-10T22:50:00",
          "2024-01-10T22:52:00",
          "2024-01-10T22:54:00",
          "2024-01-10T22:56:00",
          "2024-01-10T22:58:00",
          "2024-01-10T23:00:00",
          "2024-01-10T23:02:00",
          "2024-01-10T23:04:00",
          "2024-01-10T23:06:00",
          "2024-01-10T23:08:00",
          "2024-01-10T23:10:00",
          "2024-01-10T23:12:00",
          "2024-01-10T23:14:00",
          "2024-01-10T23:16:00",
          "2024-01-10T23:18:00",
          "2024-01-10T23:20:00",
          "2024-01-10T23:22:00",
          "2024-01-10T23:24:00",
          "2024-01-10T23:26:00",
          "2024-01-10T23:28:00",
          "2024-01-10T23:30:00",
          "2024-01-10T23:32:00",
          "2024-01-10T23:34:00",
          "2024-01-10T23:36:00",
          "2024-01-10T23:38:00",
          "2024-01-10T23:40:00",
          "2024-01-10T23:42:00",
          "2024-01-10T23:44:00",
          "2024-01-10T23:46:00",
          "2024-01-10T23:48:00",
          "2024-01-10T23:50:00",
          "2024-01-10T23:52:00",
          "2024-01-10T23:54:00",
          "2024-01-10T23:56:00",
          "2024-01-10T23:58:00",
          "2024-01-11T00:00:00",
          "2024-01-11T00:02:00",
          "2024-01-11T00:04:00",
          "2024-01-11T00:06:00",
          "2024-01-11T00:08:00",
          "2024-01-11T00:10:00",
          "2024-01-11T00:12:00",
          "2024-01-11T00:14:00",
          "2024-01-11T00:16:00",
          "2024-01-11T00:18:00",
          "2024-01-11T00:20:00",
          "2024-01-11T00:22:00",
          "2024-01-11T00:24:00"
         ],
         "xaxis": "x",
         "y": [
          23.733333333333334,
          24.1875,
          24.160000000000004,
          25.55,
          26.280952380952378,
          26.910526315789475,
          26.650000000000002,
          25.316666666666666,
          24.933333333333334,
          24.695833333333336,
          24.412499999999998,
          24.25,
          24.495833333333334,
          24.284000000000002,
          24.054166666666664,
          23.974999999999998,
          23.99047619047619,
          24.02916666666667,
          24.114285714285714,
          24.275000000000002,
          24.145833333333332,
          24.2375,
          24.454166666666666,
          24.245833333333334,
          24.124000000000002,
          23.962500000000002,
          24.020833333333332,
          24.504166666666666,
          24.354166666666668,
          24.09166666666667,
          23.9875,
          23.97083333333333,
          24.195999999999998,
          24.175,
          24.016666666666666,
          23.912499999999998,
          23.858333333333334,
          23.837500000000002,
          23.837500000000002,
          23.775000000000002,
          23.764,
          23.72083333333333,
          23.870833333333334,
          23.821052631578947,
          24.1,
          23.7,
          24.776190476190475,
          25.625,
          26.22,
          26.21666666666667,
          26.075,
          25.866666666666664,
          26.09166666666667,
          26.3875,
          26.8125,
          26.744,
          26.933333333333334,
          27.008333333333336,
          26.6875,
          26.7625,
          27.166666666666668,
          26.925,
          26.368000000000002,
          26.474999999999998,
          25.40416666666667,
          24.795833333333334,
          24.650000000000002,
          24.47083333333333,
          24.195833333333336,
          24.104,
          24.037499999999998,
          24.087500000000002,
          24.09166666666667,
          24.016666666666666,
          23.97083333333333,
          23.924999999999997,
          23.896,
          23.875,
          23.829166666666666,
          23.86521739130435,
          23.728571428571428,
          23.775000000000002,
          23.820833333333336,
          23.866666666666664,
          23.823809523809523,
          23.7625,
          23.84583333333333,
          24.599999999999998,
          25.215999999999998,
          24.829166666666666,
          24.61666666666667,
          24.46666666666667,
          24.266666666666666,
          24.379166666666666,
          24.52916666666667,
          24.484,
          24.554166666666664,
          24.65833333333333,
          24.508333333333336,
          24.329166666666666,
          24.266666666666666,
          24.09583333333333,
          24.05,
          24.256,
          24.125,
          24.0125,
          23.904166666666665,
          23.816666666666666,
          23.787499999999998,
          23.766666666666666,
          23.8,
          23.77916666666667,
          23.787499999999998,
          23.808333333333334,
          23.829166666666666,
          23.78333333333333,
          23.84583333333333,
          23.828000000000003,
          23.795833333333334,
          23.766666666666666,
          23.775000000000002,
          23.787499999999998,
          23.837500000000002,
          23.912499999999998,
          23.83181818181818,
          23.71666666666667,
          23.733333333333334,
          23.791304347826088,
          23.73478260869565,
          23.73478260869565,
          23.752173913043475,
          23.770833333333332,
          23.752,
          23.766666666666666,
          23.747826086956525,
          23.73,
          23.786956521739132,
          23.829166666666666,
          23.88181818181818,
          23.825,
          23.79090909090909,
          23.820833333333336,
          23.8125,
          23.775000000000002,
          23.791666666666668,
          23.77916666666667,
          23.77916666666667,
          23.744,
          23.679166666666664,
          23.725,
          23.723529411764705,
          23.733333333333334,
          23.829166666666666,
          23.92105263157895,
          23.995833333333334,
          23.834782608695654,
          23.668000000000003,
          23.569565217391304,
          23.504,
          23.45,
          23.354166666666668,
          23.308333333333334,
          23.245833333333334,
          23.211111111111112
         ],
         "yaxis": "y"
        },
        {
         "hoverinfo": "text",
         "hovertext": [
          "Freq: 0.0061<br>Ampl: 13.3932<br>Time period: 164.0",
          "Freq: 0.0122<br>Ampl: 12.9141<br>Time period: 82.0",
          "Freq: 0.0183<br>Ampl: 12.9118<br>Time period: 54.6667",
          "Freq: 0.0244<br>Ampl: 14.8997<br>Time period: 41.0",
          "Freq: 0.0305<br>Ampl: 13.4684<br>Time period: 32.8",
          "Freq: 0.0366<br>Ampl: 8.23<br>Time period: 27.3333",
          "Freq: 0.0427<br>Ampl: -0.2167<br>Time period: 23.4286",
          "Freq: 0.0488<br>Ampl: -0.9972<br>Time period: 20.5",
          "Freq: 0.0549<br>Ampl: -1.8743<br>Time period: 18.2222",
          "Freq: 0.061<br>Ampl: -1.5535<br>Time period: 16.4",
          "Freq: 0.0671<br>Ampl: 0.7379<br>Time period: 14.9091",
          "Freq: 0.0732<br>Ampl: 2.1471<br>Time period: 13.6667",
          "Freq: 0.0793<br>Ampl: 0.9653<br>Time period: 12.6154",
          "Freq: 0.0854<br>Ampl: -4.4854<br>Time period: 11.7143",
          "Freq: 0.0915<br>Ampl: -17.5451<br>Time period: 10.9333",
          "Freq: 0.0976<br>Ampl: -6.6921<br>Time period: 10.25",
          "Freq: 0.1037<br>Ampl: -4.1384<br>Time period: 9.6471",
          "Freq: 0.1098<br>Ampl: -4.6257<br>Time period: 9.1111",
          "Freq: 0.1159<br>Ampl: -2.8407<br>Time period: 8.6316",
          "Freq: 0.122<br>Ampl: -1.3768<br>Time period: 8.2",
          "Freq: 0.128<br>Ampl: -4.3914<br>Time period: 7.8095",
          "Freq: 0.1341<br>Ampl: -18.851<br>Time period: 7.4545",
          "Freq: 0.1402<br>Ampl: -4.7454<br>Time period: 7.1304",
          "Freq: 0.1463<br>Ampl: -1.4307<br>Time period: 6.8333",
          "Freq: 0.1524<br>Ampl: -3.8407<br>Time period: 6.56",
          "Freq: 0.1585<br>Ampl: -11.2287<br>Time period: 6.3077",
          "Freq: 0.1646<br>Ampl: -28.9091<br>Time period: 6.0741",
          "Freq: 0.1707<br>Ampl: -10.3445<br>Time period: 5.8571",
          "Freq: 0.1768<br>Ampl: -6.701<br>Time period: 5.6552",
          "Freq: 0.1829<br>Ampl: -8.0101<br>Time period: 5.4667",
          "Freq: 0.189<br>Ampl: -10.2567<br>Time period: 5.2903",
          "Freq: 0.1951<br>Ampl: -6.4821<br>Time period: 5.125",
          "Freq: 0.2012<br>Ampl: -6.3853<br>Time period: 4.9697",
          "Freq: 0.2073<br>Ampl: -13.1383<br>Time period: 4.8235",
          "Freq: 0.2134<br>Ampl: -18.3246<br>Time period: 4.6857",
          "Freq: 0.2195<br>Ampl: -14.1025<br>Time period: 4.5556",
          "Freq: 0.2256<br>Ampl: -13.2954<br>Time period: 4.4324",
          "Freq: 0.2317<br>Ampl: -15.1677<br>Time period: 4.3158",
          "Freq: 0.2378<br>Ampl: -15.8767<br>Time period: 4.2051",
          "Freq: 0.2439<br>Ampl: -11.9736<br>Time period: 4.1",
          "Freq: 0.25<br>Ampl: -10.5911<br>Time period: 4.0",
          "Freq: 0.2561<br>Ampl: -13.1548<br>Time period: 3.9048",
          "Freq: 0.2622<br>Ampl: -21.0006<br>Time period: 3.814",
          "Freq: 0.2683<br>Ampl: -39.8441<br>Time period: 3.7273",
          "Freq: 0.2744<br>Ampl: -23.5212<br>Time period: 3.6444",
          "Freq: 0.2805<br>Ampl: -15.7177<br>Time period: 3.5652",
          "Freq: 0.2866<br>Ampl: -12.3117<br>Time period: 3.4894",
          "Freq: 0.2927<br>Ampl: -10.3172<br>Time period: 3.4167",
          "Freq: 0.2988<br>Ampl: -9.8521<br>Time period: 3.3469",
          "Freq: 0.3049<br>Ampl: -15.4198<br>Time period: 3.28",
          "Freq: 0.311<br>Ampl: -17.9157<br>Time period: 3.2157",
          "Freq: 0.3171<br>Ampl: -9.4848<br>Time period: 3.1538",
          "Freq: 0.3232<br>Ampl: -8.1091<br>Time period: 3.0943",
          "Freq: 0.3293<br>Ampl: -9.526<br>Time period: 3.037",
          "Freq: 0.3354<br>Ampl: -13.9992<br>Time period: 2.9818",
          "Freq: 0.3415<br>Ampl: -28.0736<br>Time period: 2.9286",
          "Freq: 0.3476<br>Ampl: -20.3149<br>Time period: 2.8772",
          "Freq: 0.3537<br>Ampl: -14.0028<br>Time period: 2.8276",
          "Freq: 0.3598<br>Ampl: -12.4207<br>Time period: 2.7797",
          "Freq: 0.3659<br>Ampl: -13.6848<br>Time period: 2.7333",
          "Freq: 0.372<br>Ampl: -16.2768<br>Time period: 2.6885",
          "Freq: 0.378<br>Ampl: -22.0344<br>Time period: 2.6452",
          "Freq: 0.3841<br>Ampl: -37.1492<br>Time period: 2.6032",
          "Freq: 0.3902<br>Ampl: -27.0163<br>Time period: 2.5625",
          "Freq: 0.3963<br>Ampl: -24.7932<br>Time period: 2.5231",
          "Freq: 0.4024<br>Ampl: -20.0934<br>Time period: 2.4848",
          "Freq: 0.4085<br>Ampl: -18.3391<br>Time period: 2.4478",
          "Freq: 0.4146<br>Ampl: -22.4355<br>Time period: 2.4118",
          "Freq: 0.4207<br>Ampl: -24.546<br>Time period: 2.3768",
          "Freq: 0.4268<br>Ampl: -20.1189<br>Time period: 2.3429",
          "Freq: 0.4329<br>Ampl: -20.2079<br>Time period: 2.3099",
          "Freq: 0.439<br>Ampl: -21.2283<br>Time period: 2.2778",
          "Freq: 0.4451<br>Ampl: -20.6326<br>Time period: 2.2466",
          "Freq: 0.4512<br>Ampl: -18.2465<br>Time period: 2.2162",
          "Freq: 0.4573<br>Ampl: -18.792<br>Time period: 2.1867",
          "Freq: 0.4634<br>Ampl: -23.58<br>Time period: 2.1579",
          "Freq: 0.4695<br>Ampl: -18.3784<br>Time period: 2.1299",
          "Freq: 0.4756<br>Ampl: -16.7331<br>Time period: 2.1026",
          "Freq: 0.4817<br>Ampl: -17.1685<br>Time period: 2.0759",
          "Freq: 0.4878<br>Ampl: -18.784<br>Time period: 2.05",
          "Freq: 0.4939<br>Ampl: -23.8805<br>Time period: 2.0247",
          "Freq: 0.5<br>Ampl: -46.0957<br>Time period: 2.0"
         ],
         "line": {
          "color": "#1f77b4",
          "width": 2
         },
         "marker": {
          "size": 5
         },
         "mode": "lines+markers",
         "name": "temperature (transformed)",
         "showlegend": false,
         "type": "scattergl",
         "x": [
          0.006097560975609756,
          0.012195121951219513,
          0.01829268292682927,
          0.024390243902439025,
          0.03048780487804878,
          0.03658536585365854,
          0.042682926829268296,
          0.04878048780487805,
          0.054878048780487805,
          0.06097560975609756,
          0.06707317073170732,
          0.07317073170731708,
          0.07926829268292683,
          0.08536585365853659,
          0.09146341463414634,
          0.0975609756097561,
          0.10365853658536586,
          0.10975609756097561,
          0.11585365853658537,
          0.12195121951219512,
          0.12804878048780488,
          0.13414634146341464,
          0.1402439024390244,
          0.14634146341463417,
          0.1524390243902439,
          0.15853658536585366,
          0.16463414634146342,
          0.17073170731707318,
          0.17682926829268295,
          0.18292682926829268,
          0.18902439024390244,
          0.1951219512195122,
          0.20121951219512196,
          0.20731707317073172,
          0.21341463414634146,
          0.21951219512195122,
          0.22560975609756098,
          0.23170731707317074,
          0.2378048780487805,
          0.24390243902439024,
          0.25,
          0.25609756097560976,
          0.2621951219512195,
          0.2682926829268293,
          0.27439024390243905,
          0.2804878048780488,
          0.28658536585365857,
          0.29268292682926833,
          0.29878048780487804,
          0.3048780487804878,
          0.31097560975609756,
          0.3170731707317073,
          0.3231707317073171,
          0.32926829268292684,
          0.3353658536585366,
          0.34146341463414637,
          0.34756097560975613,
          0.3536585365853659,
          0.3597560975609756,
          0.36585365853658536,
          0.3719512195121951,
          0.3780487804878049,
          0.38414634146341464,
          0.3902439024390244,
          0.39634146341463417,
          0.4024390243902439,
          0.4085365853658537,
          0.41463414634146345,
          0.4207317073170732,
          0.4268292682926829,
          0.4329268292682927,
          0.43902439024390244,
          0.4451219512195122,
          0.45121951219512196,
          0.4573170731707317,
          0.4634146341463415,
          0.46951219512195125,
          0.475609756097561,
          0.48170731707317077,
          0.4878048780487805,
          0.49390243902439024,
          0.5
         ],
         "xaxis": "x2",
         "y": [
          13.393159522866103,
          12.914117800289668,
          12.911849234341915,
          14.899712250166672,
          13.468417441361094,
          8.229960037285135,
          -0.21674102052835476,
          -0.9972405252624035,
          -1.8742791156012562,
          -1.5535318600201709,
          0.7378976186221864,
          2.147134327488299,
          0.96534020154067,
          -4.485425872850169,
          -17.54513215813254,
          -6.692099139658458,
          -4.1384222320570725,
          -4.625729386998959,
          -2.840686529657463,
          -1.3767506093117032,
          -4.391440603144705,
          -18.850989895559128,
          -4.745423365848612,
          -1.4307444376892244,
          -3.8406727325457894,
          -11.22868076387332,
          -28.90913962836521,
          -10.344488655639399,
          -6.701013814158115,
          -8.010105116448578,
          -10.256653775976499,
          -6.482060427570524,
          -6.385265752082279,
          -13.138300558534118,
          -18.32457267212881,
          -14.102542733250889,
          -13.295363357231786,
          -15.167721494586171,
          -15.876706749401254,
          -11.973571717178599,
          -10.591091491659451,
          -13.154785339786281,
          -21.000578990207927,
          -39.84411086305362,
          -23.521160262008433,
          -15.7176713848921,
          -12.31173745889407,
          -10.317239910910253,
          -9.85208497236054,
          -15.419801852590515,
          -17.915688033847882,
          -9.484833454749204,
          -8.109078284495283,
          -9.525983526914679,
          -13.999186113531232,
          -28.073624245327178,
          -20.314918862739553,
          -14.002825625316138,
          -12.420700094947975,
          -13.684774366634436,
          -16.276757952230707,
          -22.034440647328346,
          -37.14924833499317,
          -27.01627994905798,
          -24.793205910130144,
          -20.09335462628888,
          -18.339098344150656,
          -22.435522262417553,
          -24.545951930632754,
          -20.118941561224215,
          -20.207909780219065,
          -21.228257067991603,
          -20.63263441309745,
          -18.246528218740426,
          -18.791972106885556,
          -23.579987242088155,
          -18.378400142024912,
          -16.733115894746476,
          -17.168465680829023,
          -18.784017739940243,
          -23.88045790224338,
          -46.09567324359675
         ],
         "yaxis": "y2"
        },
        {
         "alignmentgroup": "True",
         "bingroup": "x",
         "hovertemplate": "variable=temperature (transformed)<br>value=%{x}<br>count=%{y}<extra></extra>",
         "legendgroup": "temperature (transformed)",
         "marker": {
          "color": "#1f77b4",
          "pattern": {
           "shape": ""
          }
         },
         "name": "temperature (transformed)",
         "offsetgroup": "temperature (transformed)",
         "orientation": "v",
         "showlegend": false,
         "type": "histogram",
         "x": [
          23.733333333333334,
          24.1875,
          24.160000000000004,
          25.55,
          26.280952380952378,
          26.910526315789475,
          26.650000000000002,
          25.316666666666666,
          24.933333333333334,
          24.695833333333336,
          24.412499999999998,
          24.25,
          24.495833333333334,
          24.284000000000002,
          24.054166666666664,
          23.974999999999998,
          23.99047619047619,
          24.02916666666667,
          24.114285714285714,
          24.275000000000002,
          24.145833333333332,
          24.2375,
          24.454166666666666,
          24.245833333333334,
          24.124000000000002,
          23.962500000000002,
          24.020833333333332,
          24.504166666666666,
          24.354166666666668,
          24.09166666666667,
          23.9875,
          23.97083333333333,
          24.195999999999998,
          24.175,
          24.016666666666666,
          23.912499999999998,
          23.858333333333334,
          23.837500000000002,
          23.837500000000002,
          23.775000000000002,
          23.764,
          23.72083333333333,
          23.870833333333334,
          23.821052631578947,
          24.1,
          23.7,
          24.776190476190475,
          25.625,
          26.22,
          26.21666666666667,
          26.075,
          25.866666666666664,
          26.09166666666667,
          26.3875,
          26.8125,
          26.744,
          26.933333333333334,
          27.008333333333336,
          26.6875,
          26.7625,
          27.166666666666668,
          26.925,
          26.368000000000002,
          26.474999999999998,
          25.40416666666667,
          24.795833333333334,
          24.650000000000002,
          24.47083333333333,
          24.195833333333336,
          24.104,
          24.037499999999998,
          24.087500000000002,
          24.09166666666667,
          24.016666666666666,
          23.97083333333333,
          23.924999999999997,
          23.896,
          23.875,
          23.829166666666666,
          23.86521739130435,
          23.728571428571428,
          23.775000000000002,
          23.820833333333336,
          23.866666666666664,
          23.823809523809523,
          23.7625,
          23.84583333333333,
          24.599999999999998,
          25.215999999999998,
          24.829166666666666,
          24.61666666666667,
          24.46666666666667,
          24.266666666666666,
          24.379166666666666,
          24.52916666666667,
          24.484,
          24.554166666666664,
          24.65833333333333,
          24.508333333333336,
          24.329166666666666,
          24.266666666666666,
          24.09583333333333,
          24.05,
          24.256,
          24.125,
          24.0125,
          23.904166666666665,
          23.816666666666666,
          23.787499999999998,
          23.766666666666666,
          23.8,
          23.77916666666667,
          23.787499999999998,
          23.808333333333334,
          23.829166666666666,
          23.78333333333333,
          23.84583333333333,
          23.828000000000003,
          23.795833333333334,
          23.766666666666666,
          23.775000000000002,
          23.787499999999998,
          23.837500000000002,
          23.912499999999998,
          23.83181818181818,
          23.71666666666667,
          23.733333333333334,
          23.791304347826088,
          23.73478260869565,
          23.73478260869565,
          23.752173913043475,
          23.770833333333332,
          23.752,
          23.766666666666666,
          23.747826086956525,
          23.73,
          23.786956521739132,
          23.829166666666666,
          23.88181818181818,
          23.825,
          23.79090909090909,
          23.820833333333336,
          23.8125,
          23.775000000000002,
          23.791666666666668,
          23.77916666666667,
          23.77916666666667,
          23.744,
          23.679166666666664,
          23.725,
          23.723529411764705,
          23.733333333333334,
          23.829166666666666,
          23.92105263157895,
          23.995833333333334,
          23.834782608695654,
          23.668000000000003,
          23.569565217391304,
          23.504,
          23.45,
          23.354166666666668,
          23.308333333333334,
          23.245833333333334,
          23.211111111111112
         ],
         "xaxis": "x3",
         "yaxis": "y3"
        },
        {
         "marker": {
          "color": "#1f77b4"
         },
         "mode": "markers",
         "name": "temperature (transformed)",
         "showlegend": false,
         "type": "scattergl",
         "x": [
          -2.508595724222826,
          -2.253265332277144,
          -2.092837798505774,
          -1.9730940462065556,
          -1.876358561894595,
          -1.7945384156293687,
          -1.7232214574127096,
          -1.6597254506257415,
          -1.6022926552158765,
          -1.5497059007365892,
          -1.501085946044025,
          -1.4557760251170175,
          -1.413272020151409,
          -1.3731781529683003,
          -1.335177736118937,
          -1.2990132153260872,
          -1.2644721628181017,
          -1.2313772057634216,
          -1.199578629671608,
          -1.168948844531482,
          -1.1393781759359913,
          -1.1107716166367854,
          -1.0830462861206644,
          -1.0561294201171834,
          -1.0299567622253682,
          -1.0044712645057228,
          -0.9796220281837229,
          -0.9553634329144168,
          -0.9316544155550731,
          -0.9084578685373851,
          -0.8857401347029239,
          -0.8634705805369564,
          -0.8416212335729142,
          -0.8201664726711535,
          -0.7990827621351786,
          -0.778348422384844,
          -0.7579434312820313,
          -0.7378492512902927,
          -0.7180486785130097,
          -0.6985257103450601,
          -0.6792654290287191,
          -0.6602538988544634,
          -0.6414780751136814,
          -0.6229257232100878,
          -0.6045853465832371,
          -0.5864461223013293,
          -0.5684978433496706,
          -0.5507308667822143,
          -0.5331360670216853,
          -0.5157047936930385,
          -0.498428833458718,
          -0.4813003753950681,
          -0.46431197950945285,
          -0.4474565480489637,
          -0.43072729929545756,
          -0.4141177435792972,
          -0.39762166127650656,
          -0.3812330825819476,
          -0.3649462688752415,
          -0.3487556955170447,
          -0.33265603593144183,
          -0.3166421468460146,
          -0.3007090545749199,
          -0.2848519422423546,
          -0.2690661378543142,
          -0.2533471031357997,
          -0.23769042305872715,
          -0.22209179599292003,
          -0.2065470244188349,
          -0.1910520061461741,
          -0.1756027259873963,
          -0.16019524783939426,
          -0.14482570713036494,
          -0.12949030359217775,
          -0.11418529432142838,
          -0.09890698709487508,
          -0.08365173390712909,
          -0.06841592470034528,
          -0.05319598125726236,
          -0.037988351230282213,
          -0.022789502280392185,
          -0.007595916300618239,
          0.007595916300618239,
          0.022789502280392046,
          0.037988351230282213,
          0.05319598125726236,
          0.06841592470034515,
          0.08365173390712909,
          0.09890698709487522,
          0.11418529432142824,
          0.12949030359217775,
          0.14482570713036508,
          0.16019524783939412,
          0.1756027259873963,
          0.19105200614617424,
          0.20654702441883474,
          0.22209179599292003,
          0.23769042305872728,
          0.2533471031357997,
          0.2690661378543142,
          0.28485194224235444,
          0.3007090545749199,
          0.3166421468460146,
          0.3326560359314417,
          0.3487556955170447,
          0.3649462688752416,
          0.3812330825819475,
          0.39762166127650656,
          0.41411774357929737,
          0.43072729929545744,
          0.4474565480489637,
          0.4643119795094531,
          0.48130037539506787,
          0.498428833458718,
          0.5157047936930386,
          0.5331360670216853,
          0.5507308667822143,
          0.5684978433496708,
          0.5864461223013293,
          0.6045853465832371,
          0.6229257232100877,
          0.6414780751136814,
          0.6602538988544634,
          0.679265429028719,
          0.6985257103450601,
          0.7180486785130097,
          0.7378492512902927,
          0.7579434312820313,
          0.778348422384844,
          0.7990827621351786,
          0.8201664726711535,
          0.8416212335729143,
          0.8634705805369564,
          0.8857401347029239,
          0.9084578685373853,
          0.9316544155550731,
          0.9553634329144168,
          0.9796220281837228,
          1.0044712645057228,
          1.0299567622253682,
          1.0561294201171834,
          1.0830462861206644,
          1.1107716166367854,
          1.1393781759359907,
          1.168948844531482,
          1.199578629671608,
          1.2313772057634216,
          1.2644721628181017,
          1.2990132153260872,
          1.3351777361189363,
          1.3731781529683003,
          1.4132720201514097,
          1.4557760251170175,
          1.501085946044025,
          1.5497059007365892,
          1.6022926552158765,
          1.6597254506257422,
          1.7232214574127085,
          1.7945384156293687,
          1.8763585618945953,
          1.973094046206555,
          2.092837798505774,
          2.2532653322771448,
          2.5085957242228236
         ],
         "xaxis": "x4",
         "y": [
          23.211111111111112,
          23.245833333333334,
          23.308333333333334,
          23.354166666666668,
          23.45,
          23.504,
          23.569565217391304,
          23.668000000000003,
          23.679166666666664,
          23.7,
          23.71666666666667,
          23.72083333333333,
          23.723529411764705,
          23.725,
          23.728571428571428,
          23.73,
          23.733333333333334,
          23.733333333333334,
          23.733333333333334,
          23.73478260869565,
          23.73478260869565,
          23.744,
          23.747826086956525,
          23.752,
          23.752173913043475,
          23.7625,
          23.764,
          23.766666666666666,
          23.766666666666666,
          23.766666666666666,
          23.770833333333332,
          23.775000000000002,
          23.775000000000002,
          23.775000000000002,
          23.775000000000002,
          23.77916666666667,
          23.77916666666667,
          23.77916666666667,
          23.78333333333333,
          23.786956521739132,
          23.787499999999998,
          23.787499999999998,
          23.787499999999998,
          23.79090909090909,
          23.791304347826088,
          23.791666666666668,
          23.795833333333334,
          23.8,
          23.808333333333334,
          23.8125,
          23.816666666666666,
          23.820833333333336,
          23.820833333333336,
          23.821052631578947,
          23.823809523809523,
          23.825,
          23.828000000000003,
          23.829166666666666,
          23.829166666666666,
          23.829166666666666,
          23.829166666666666,
          23.83181818181818,
          23.834782608695654,
          23.837500000000002,
          23.837500000000002,
          23.837500000000002,
          23.84583333333333,
          23.84583333333333,
          23.858333333333334,
          23.86521739130435,
          23.866666666666664,
          23.870833333333334,
          23.875,
          23.88181818181818,
          23.896,
          23.904166666666665,
          23.912499999999998,
          23.912499999999998,
          23.92105263157895,
          23.924999999999997,
          23.962500000000002,
          23.97083333333333,
          23.97083333333333,
          23.974999999999998,
          23.9875,
          23.99047619047619,
          23.995833333333334,
          24.0125,
          24.016666666666666,
          24.016666666666666,
          24.020833333333332,
          24.02916666666667,
          24.037499999999998,
          24.05,
          24.054166666666664,
          24.087500000000002,
          24.09166666666667,
          24.09166666666667,
          24.09583333333333,
          24.1,
          24.104,
          24.114285714285714,
          24.124000000000002,
          24.125,
          24.145833333333332,
          24.160000000000004,
          24.175,
          24.1875,
          24.195833333333336,
          24.195999999999998,
          24.2375,
          24.245833333333334,
          24.25,
          24.256,
          24.266666666666666,
          24.266666666666666,
          24.275000000000002,
          24.284000000000002,
          24.329166666666666,
          24.354166666666668,
          24.379166666666666,
          24.412499999999998,
          24.454166666666666,
          24.46666666666667,
          24.47083333333333,
          24.484,
          24.495833333333334,
          24.504166666666666,
          24.508333333333336,
          24.52916666666667,
          24.554166666666664,
          24.599999999999998,
          24.61666666666667,
          24.650000000000002,
          24.65833333333333,
          24.695833333333336,
          24.776190476190475,
          24.795833333333334,
          24.829166666666666,
          24.933333333333334,
          25.215999999999998,
          25.316666666666666,
          25.40416666666667,
          25.55,
          25.625,
          25.866666666666664,
          26.075,
          26.09166666666667,
          26.21666666666667,
          26.22,
          26.280952380952378,
          26.368000000000002,
          26.3875,
          26.474999999999998,
          26.650000000000002,
          26.6875,
          26.744,
          26.7625,
          26.8125,
          26.910526315789475,
          26.925,
          26.933333333333334,
          27.008333333333336,
          27.166666666666668
         ],
         "yaxis": "y4"
        },
        {
         "line": {
          "color": "#3f3f3f"
         },
         "mode": "lines",
         "name": "temperature (transformed)",
         "showlegend": false,
         "type": "scattergl",
         "x": [
          -2.508595724222826,
          -2.253265332277144,
          -2.092837798505774,
          -1.9730940462065556,
          -1.876358561894595,
          -1.7945384156293687,
          -1.7232214574127096,
          -1.6597254506257415,
          -1.6022926552158765,
          -1.5497059007365892,
          -1.501085946044025,
          -1.4557760251170175,
          -1.413272020151409,
          -1.3731781529683003,
          -1.335177736118937,
          -1.2990132153260872,
          -1.2644721628181017,
          -1.2313772057634216,
          -1.199578629671608,
          -1.168948844531482,
          -1.1393781759359913,
          -1.1107716166367854,
          -1.0830462861206644,
          -1.0561294201171834,
          -1.0299567622253682,
          -1.0044712645057228,
          -0.9796220281837229,
          -0.9553634329144168,
          -0.9316544155550731,
          -0.9084578685373851,
          -0.8857401347029239,
          -0.8634705805369564,
          -0.8416212335729142,
          -0.8201664726711535,
          -0.7990827621351786,
          -0.778348422384844,
          -0.7579434312820313,
          -0.7378492512902927,
          -0.7180486785130097,
          -0.6985257103450601,
          -0.6792654290287191,
          -0.6602538988544634,
          -0.6414780751136814,
          -0.6229257232100878,
          -0.6045853465832371,
          -0.5864461223013293,
          -0.5684978433496706,
          -0.5507308667822143,
          -0.5331360670216853,
          -0.5157047936930385,
          -0.498428833458718,
          -0.4813003753950681,
          -0.46431197950945285,
          -0.4474565480489637,
          -0.43072729929545756,
          -0.4141177435792972,
          -0.39762166127650656,
          -0.3812330825819476,
          -0.3649462688752415,
          -0.3487556955170447,
          -0.33265603593144183,
          -0.3166421468460146,
          -0.3007090545749199,
          -0.2848519422423546,
          -0.2690661378543142,
          -0.2533471031357997,
          -0.23769042305872715,
          -0.22209179599292003,
          -0.2065470244188349,
          -0.1910520061461741,
          -0.1756027259873963,
          -0.16019524783939426,
          -0.14482570713036494,
          -0.12949030359217775,
          -0.11418529432142838,
          -0.09890698709487508,
          -0.08365173390712909,
          -0.06841592470034528,
          -0.05319598125726236,
          -0.037988351230282213,
          -0.022789502280392185,
          -0.007595916300618239,
          0.007595916300618239,
          0.022789502280392046,
          0.037988351230282213,
          0.05319598125726236,
          0.06841592470034515,
          0.08365173390712909,
          0.09890698709487522,
          0.11418529432142824,
          0.12949030359217775,
          0.14482570713036508,
          0.16019524783939412,
          0.1756027259873963,
          0.19105200614617424,
          0.20654702441883474,
          0.22209179599292003,
          0.23769042305872728,
          0.2533471031357997,
          0.2690661378543142,
          0.28485194224235444,
          0.3007090545749199,
          0.3166421468460146,
          0.3326560359314417,
          0.3487556955170447,
          0.3649462688752416,
          0.3812330825819475,
          0.39762166127650656,
          0.41411774357929737,
          0.43072729929545744,
          0.4474565480489637,
          0.4643119795094531,
          0.48130037539506787,
          0.498428833458718,
          0.5157047936930386,
          0.5331360670216853,
          0.5507308667822143,
          0.5684978433496708,
          0.5864461223013293,
          0.6045853465832371,
          0.6229257232100877,
          0.6414780751136814,
          0.6602538988544634,
          0.679265429028719,
          0.6985257103450601,
          0.7180486785130097,
          0.7378492512902927,
          0.7579434312820313,
          0.778348422384844,
          0.7990827621351786,
          0.8201664726711535,
          0.8416212335729143,
          0.8634705805369564,
          0.8857401347029239,
          0.9084578685373853,
          0.9316544155550731,
          0.9553634329144168,
          0.9796220281837228,
          1.0044712645057228,
          1.0299567622253682,
          1.0561294201171834,
          1.0830462861206644,
          1.1107716166367854,
          1.1393781759359907,
          1.168948844531482,
          1.199578629671608,
          1.2313772057634216,
          1.2644721628181017,
          1.2990132153260872,
          1.3351777361189363,
          1.3731781529683003,
          1.4132720201514097,
          1.4557760251170175,
          1.501085946044025,
          1.5497059007365892,
          1.6022926552158765,
          1.6597254506257422,
          1.7232214574127085,
          1.7945384156293687,
          1.8763585618945953,
          1.973094046206555,
          2.092837798505774,
          2.2532653322771448,
          2.5085957242228236
         ],
         "xaxis": "x4",
         "y": [
          22.055902856697987,
          22.286824797573505,
          22.431916171875073,
          22.54021295346046,
          22.62770095525542,
          22.701699459053998,
          22.766198832917148,
          22.82362490355981,
          22.87556737889496,
          22.923127073282163,
          22.967099176318275,
          23.00807767011077,
          23.04651848104145,
          23.08277955265371,
          23.117147298483204,
          23.149854651762535,
          23.181093733112178,
          23.211024959309036,
          23.239783732803424,
          23.26748544656832,
          23.29422929062473,
          23.32010118995017,
          23.345176102049,
          23.369519835250696,
          23.39319050332978,
          23.41623970069619,
          23.438713460427742,
          23.4606530417671,
          23.48209558240298,
          23.50307464258503,
          23.523620661996866,
          23.543761345725308,
          23.563521992193404,
          23.58292577327368,
          23.60199397475461,
          23.620746203744797,
          23.639200568354912,
          23.657373834015278,
          23.675281560006432,
          23.692938219155543,
          23.710357303148974,
          23.727551415504337,
          23.744532353914053,
          23.761311183401357,
          23.7778983015066,
          23.794303496537378,
          23.810535999763136,
          23.82660453230712,
          23.842517347381957,
          23.858282268425274,
          23.873906723616045,
          23.88939777718833,
          23.90476215790452,
          23.920006285003886,
          23.93513629190244,
          23.95015804788624,
          23.96507717801084,
          23.979899081394528,
          23.994628948071078,
          24.00927177454885,
          24.02383237820677,
          24.038315410643264,
          24.052725370081905,
          24.067066612926574,
          24.0813433645494,
          24.09555972938646,
          24.109719700408764,
          24.12382716802976,
          24.13788592850477,
          24.15189969187292,
          24.165872089487667,
          24.17980668117815,
          24.193706962080274,
          24.20757636917342,
          24.22141828755606,
          24.235236056491292,
          24.249032975251403,
          24.262812308788746,
          24.276577293258907,
          24.290331141420836,
          24.304077047937632,
          24.317818194600875,
          24.331557755500775,
          24.345298902164018,
          24.359044808680814,
          24.372798656842743,
          24.386563641312904,
          24.400342974850247,
          24.414139893610358,
          24.42795766254559,
          24.44179958092823,
          24.455668988021376,
          24.4695692689235,
          24.483503860613983,
          24.49747625822873,
          24.51149002159688,
          24.52554878207189,
          24.539656249692886,
          24.55381622071519,
          24.56803258555225,
          24.582309337175076,
          24.596650580019745,
          24.611060539458386,
          24.62554357189488,
          24.6401041755528,
          24.65474700203057,
          24.66947686870712,
          24.68429877209081,
          24.69921790221541,
          24.714239658199208,
          24.729369665097764,
          24.74461379219713,
          24.75997817291332,
          24.775469226485605,
          24.791093681676376,
          24.806858602719693,
          24.82277141779453,
          24.838839950338514,
          24.855072453564272,
          24.87147764859505,
          24.888064766700293,
          24.904843596187597,
          24.921824534597313,
          24.939018646952675,
          24.956437730946107,
          24.974094390095217,
          24.992002116086372,
          25.010175381746738,
          25.028629746356852,
          25.04738197534704,
          25.06645017682797,
          25.085853957908245,
          25.105614604376342,
          25.125755288104784,
          25.14630130751662,
          25.16728036769867,
          25.18872290833455,
          25.210662489673908,
          25.233136249405458,
          25.25618544677187,
          25.279856114850954,
          25.30419984805265,
          25.32927476015148,
          25.35514665947692,
          25.38189050353333,
          25.409592217298226,
          25.438350990792614,
          25.468282216989472,
          25.499521298339115,
          25.532228651618446,
          25.566596397447938,
          25.6028574690602,
          25.64129827999088,
          25.682276773783375,
          25.726248876819486,
          25.77380857120669,
          25.82575104654184,
          25.883177117184502,
          25.947676491047652,
          26.02167499484623,
          26.10916299664119,
          26.217459778226576,
          26.362551152528145,
          26.59347309340366
         ],
         "yaxis": "y4"
        },
        {
         "line": {
          "color": "#3f3f3f"
         },
         "mode": "lines",
         "name": "ACF",
         "showlegend": false,
         "type": "scattergl",
         "x": [
          0,
          0
         ],
         "xaxis": "x5",
         "y": [
          0,
          1
         ],
         "yaxis": "y5"
        },
        {
         "line": {
          "color": "#3f3f3f"
         },
         "mode": "lines",
         "name": "ACF",
         "showlegend": false,
         "type": "scattergl",
         "x": [
          1,
          1
         ],
         "xaxis": "x5",
         "y": [
          0,
          0.9458884390660832
         ],
         "yaxis": "y5"
        },
        {
         "line": {
          "color": "#3f3f3f"
         },
         "mode": "lines",
         "name": "ACF",
         "showlegend": false,
         "type": "scattergl",
         "x": [
          2,
          2
         ],
         "xaxis": "x5",
         "y": [
          0,
          0.8601132632488586
         ],
         "yaxis": "y5"
        },
        {
         "line": {
          "color": "#3f3f3f"
         },
         "mode": "lines",
         "name": "ACF",
         "showlegend": false,
         "type": "scattergl",
         "x": [
          3,
          3
         ],
         "xaxis": "x5",
         "y": [
          0,
          0.7647496565212638
         ],
         "yaxis": "y5"
        },
        {
         "line": {
          "color": "#3f3f3f"
         },
         "mode": "lines",
         "name": "ACF",
         "showlegend": false,
         "type": "scattergl",
         "x": [
          4,
          4
         ],
         "xaxis": "x5",
         "y": [
          0,
          0.6798158926785284
         ],
         "yaxis": "y5"
        },
        {
         "line": {
          "color": "#3f3f3f"
         },
         "mode": "lines",
         "name": "ACF",
         "showlegend": false,
         "type": "scattergl",
         "x": [
          5,
          5
         ],
         "xaxis": "x5",
         "y": [
          0,
          0.611779854824617
         ],
         "yaxis": "y5"
        },
        {
         "line": {
          "color": "#3f3f3f"
         },
         "mode": "lines",
         "name": "ACF",
         "showlegend": false,
         "type": "scattergl",
         "x": [
          6,
          6
         ],
         "xaxis": "x5",
         "y": [
          0,
          0.5539889211994318
         ],
         "yaxis": "y5"
        },
        {
         "line": {
          "color": "#3f3f3f"
         },
         "mode": "lines",
         "name": "ACF",
         "showlegend": false,
         "type": "scattergl",
         "x": [
          7,
          7
         ],
         "xaxis": "x5",
         "y": [
          0,
          0.48960884639906793
         ],
         "yaxis": "y5"
        },
        {
         "line": {
          "color": "#3f3f3f"
         },
         "mode": "lines",
         "name": "ACF",
         "showlegend": false,
         "type": "scattergl",
         "x": [
          8,
          8
         ],
         "xaxis": "x5",
         "y": [
          0,
          0.4174951015440863
         ],
         "yaxis": "y5"
        },
        {
         "line": {
          "color": "#3f3f3f"
         },
         "mode": "lines",
         "name": "ACF",
         "showlegend": false,
         "type": "scattergl",
         "x": [
          9,
          9
         ],
         "xaxis": "x5",
         "y": [
          0,
          0.347965033630978
         ],
         "yaxis": "y5"
        },
        {
         "line": {
          "color": "#3f3f3f"
         },
         "mode": "lines",
         "name": "ACF",
         "showlegend": false,
         "type": "scattergl",
         "x": [
          10,
          10
         ],
         "xaxis": "x5",
         "y": [
          0,
          0.2796365289217685
         ],
         "yaxis": "y5"
        },
        {
         "line": {
          "color": "#3f3f3f"
         },
         "mode": "lines",
         "name": "ACF",
         "showlegend": false,
         "type": "scattergl",
         "x": [
          11,
          11
         ],
         "xaxis": "x5",
         "y": [
          0,
          0.2141305287552694
         ],
         "yaxis": "y5"
        },
        {
         "line": {
          "color": "#3f3f3f"
         },
         "mode": "lines",
         "name": "ACF",
         "showlegend": false,
         "type": "scattergl",
         "x": [
          12,
          12
         ],
         "xaxis": "x5",
         "y": [
          0,
          0.15656786371257586
         ],
         "yaxis": "y5"
        },
        {
         "line": {
          "color": "#3f3f3f"
         },
         "mode": "lines",
         "name": "ACF",
         "showlegend": false,
         "type": "scattergl",
         "x": [
          13,
          13
         ],
         "xaxis": "x5",
         "y": [
          0,
          0.10845413815033675
         ],
         "yaxis": "y5"
        },
        {
         "line": {
          "color": "#3f3f3f"
         },
         "mode": "lines",
         "name": "ACF",
         "showlegend": false,
         "type": "scattergl",
         "x": [
          14,
          14
         ],
         "xaxis": "x5",
         "y": [
          0,
          0.06093377707192329
         ],
         "yaxis": "y5"
        },
        {
         "line": {
          "color": "#3f3f3f"
         },
         "mode": "lines",
         "name": "ACF",
         "showlegend": false,
         "type": "scattergl",
         "x": [
          15,
          15
         ],
         "xaxis": "x5",
         "y": [
          0,
          0.0134576933152101
         ],
         "yaxis": "y5"
        },
        {
         "line": {
          "color": "#3f3f3f"
         },
         "mode": "lines",
         "name": "ACF",
         "showlegend": false,
         "type": "scattergl",
         "x": [
          16,
          16
         ],
         "xaxis": "x5",
         "y": [
          0,
          -0.03347110301536948
         ],
         "yaxis": "y5"
        },
        {
         "line": {
          "color": "#3f3f3f"
         },
         "mode": "lines",
         "name": "ACF",
         "showlegend": false,
         "type": "scattergl",
         "x": [
          17,
          17
         ],
         "xaxis": "x5",
         "y": [
          0,
          -0.07890726061183256
         ],
         "yaxis": "y5"
        },
        {
         "line": {
          "color": "#3f3f3f"
         },
         "mode": "lines",
         "name": "ACF",
         "showlegend": false,
         "type": "scattergl",
         "x": [
          18,
          18
         ],
         "xaxis": "x5",
         "y": [
          0,
          -0.11471790016879285
         ],
         "yaxis": "y5"
        },
        {
         "line": {
          "color": "#3f3f3f"
         },
         "mode": "lines",
         "name": "ACF",
         "showlegend": false,
         "type": "scattergl",
         "x": [
          19,
          19
         ],
         "xaxis": "x5",
         "y": [
          0,
          -0.13134195534059862
         ],
         "yaxis": "y5"
        },
        {
         "line": {
          "color": "#3f3f3f"
         },
         "mode": "lines",
         "name": "ACF",
         "showlegend": false,
         "type": "scattergl",
         "x": [
          20,
          20
         ],
         "xaxis": "x5",
         "y": [
          0,
          -0.1403321979653025
         ],
         "yaxis": "y5"
        },
        {
         "line": {
          "color": "#3f3f3f"
         },
         "mode": "lines",
         "name": "ACF",
         "showlegend": false,
         "type": "scattergl",
         "x": [
          21,
          21
         ],
         "xaxis": "x5",
         "y": [
          0,
          -0.13973386603468832
         ],
         "yaxis": "y5"
        },
        {
         "line": {
          "color": "#3f3f3f"
         },
         "mode": "lines",
         "name": "ACF",
         "showlegend": false,
         "type": "scattergl",
         "x": [
          22,
          22
         ],
         "xaxis": "x5",
         "y": [
          0,
          -0.13526103186493418
         ],
         "yaxis": "y5"
        },
        {
         "line": {
          "color": "#3f3f3f"
         },
         "mode": "lines",
         "name": "ACF",
         "showlegend": false,
         "type": "scattergl",
         "x": [
          23,
          23
         ],
         "xaxis": "x5",
         "y": [
          0,
          -0.12565635300439015
         ],
         "yaxis": "y5"
        },
        {
         "line": {
          "color": "#3f3f3f"
         },
         "mode": "lines",
         "name": "ACF",
         "showlegend": false,
         "type": "scattergl",
         "x": [
          24,
          24
         ],
         "xaxis": "x5",
         "y": [
          0,
          -0.10841177354286079
         ],
         "yaxis": "y5"
        },
        {
         "line": {
          "color": "#3f3f3f"
         },
         "mode": "lines",
         "name": "ACF",
         "showlegend": false,
         "type": "scattergl",
         "x": [
          25,
          25
         ],
         "xaxis": "x5",
         "y": [
          0,
          -0.08897096101998964
         ],
         "yaxis": "y5"
        },
        {
         "line": {
          "color": "#3f3f3f"
         },
         "mode": "lines",
         "name": "ACF",
         "showlegend": false,
         "type": "scattergl",
         "x": [
          26,
          26
         ],
         "xaxis": "x5",
         "y": [
          0,
          -0.06846869225180076
         ],
         "yaxis": "y5"
        },
        {
         "line": {
          "color": "#3f3f3f"
         },
         "mode": "lines",
         "name": "ACF",
         "showlegend": false,
         "type": "scattergl",
         "x": [
          27,
          27
         ],
         "xaxis": "x5",
         "y": [
          0,
          -0.04559978433710406
         ],
         "yaxis": "y5"
        },
        {
         "line": {
          "color": "#3f3f3f"
         },
         "mode": "lines",
         "name": "ACF",
         "showlegend": false,
         "type": "scattergl",
         "x": [
          28,
          28
         ],
         "xaxis": "x5",
         "y": [
          0,
          -0.029190531983849858
         ],
         "yaxis": "y5"
        },
        {
         "line": {
          "color": "#3f3f3f"
         },
         "mode": "lines",
         "name": "ACF",
         "showlegend": false,
         "type": "scattergl",
         "x": [
          29,
          29
         ],
         "xaxis": "x5",
         "y": [
          0,
          -0.02143422637369289
         ],
         "yaxis": "y5"
        },
        {
         "line": {
          "color": "#3f3f3f"
         },
         "mode": "lines",
         "name": "ACF",
         "showlegend": false,
         "type": "scattergl",
         "x": [
          30,
          30
         ],
         "xaxis": "x5",
         "y": [
          0,
          -0.014958385289494504
         ],
         "yaxis": "y5"
        },
        {
         "line": {
          "color": "#3f3f3f"
         },
         "mode": "lines",
         "name": "ACF",
         "showlegend": false,
         "type": "scattergl",
         "x": [
          31,
          31
         ],
         "xaxis": "x5",
         "y": [
          0,
          -0.007460472089053948
         ],
         "yaxis": "y5"
        },
        {
         "line": {
          "color": "#3f3f3f"
         },
         "mode": "lines",
         "name": "ACF",
         "showlegend": false,
         "type": "scattergl",
         "x": [
          32,
          32
         ],
         "xaxis": "x5",
         "y": [
          0,
          0.0009221989699709326
         ],
         "yaxis": "y5"
        },
        {
         "line": {
          "color": "#3f3f3f"
         },
         "mode": "lines",
         "name": "ACF",
         "showlegend": false,
         "type": "scattergl",
         "x": [
          33,
          33
         ],
         "xaxis": "x5",
         "y": [
          0,
          0.015356706318375775
         ],
         "yaxis": "y5"
        },
        {
         "line": {
          "color": "#3f3f3f"
         },
         "mode": "lines",
         "name": "ACF",
         "showlegend": false,
         "type": "scattergl",
         "x": [
          34,
          34
         ],
         "xaxis": "x5",
         "y": [
          0,
          0.030249876740998664
         ],
         "yaxis": "y5"
        },
        {
         "line": {
          "color": "#3f3f3f"
         },
         "mode": "lines",
         "name": "ACF",
         "showlegend": false,
         "type": "scattergl",
         "x": [
          35,
          35
         ],
         "xaxis": "x5",
         "y": [
          0,
          0.03790430123872134
         ],
         "yaxis": "y5"
        },
        {
         "line": {
          "color": "#3f3f3f"
         },
         "mode": "lines",
         "name": "ACF",
         "showlegend": false,
         "type": "scattergl",
         "x": [
          36,
          36
         ],
         "xaxis": "x5",
         "y": [
          0,
          0.041832178216269916
         ],
         "yaxis": "y5"
        },
        {
         "line": {
          "color": "#3f3f3f"
         },
         "mode": "lines",
         "name": "ACF",
         "showlegend": false,
         "type": "scattergl",
         "x": [
          37,
          37
         ],
         "xaxis": "x5",
         "y": [
          0,
          0.047062232992724856
         ],
         "yaxis": "y5"
        },
        {
         "line": {
          "color": "#3f3f3f"
         },
         "mode": "lines",
         "name": "ACF",
         "showlegend": false,
         "type": "scattergl",
         "x": [
          38,
          38
         ],
         "xaxis": "x5",
         "y": [
          0,
          0.06018277597485836
         ],
         "yaxis": "y5"
        },
        {
         "line": {
          "color": "#3f3f3f"
         },
         "mode": "lines",
         "name": "ACF",
         "showlegend": false,
         "type": "scattergl",
         "x": [
          39,
          39
         ],
         "xaxis": "x5",
         "y": [
          0,
          0.07871302322303933
         ],
         "yaxis": "y5"
        },
        {
         "line": {
          "color": "#3f3f3f"
         },
         "mode": "lines",
         "name": "ACF",
         "showlegend": false,
         "type": "scattergl",
         "x": [
          40,
          40
         ],
         "xaxis": "x5",
         "y": [
          0,
          0.10446976262967479
         ],
         "yaxis": "y5"
        },
        {
         "marker": {
          "color": "#1f77b4",
          "size": 6
         },
         "mode": "markers",
         "name": "ACF",
         "showlegend": false,
         "type": "scattergl",
         "x": [
          0,
          1,
          2,
          3,
          4,
          5,
          6,
          7,
          8,
          9,
          10,
          11,
          12,
          13,
          14,
          15,
          16,
          17,
          18,
          19,
          20,
          21,
          22,
          23,
          24,
          25,
          26,
          27,
          28,
          29,
          30,
          31,
          32,
          33,
          34,
          35,
          36,
          37,
          38,
          39,
          40
         ],
         "xaxis": "x5",
         "y": [
          1,
          0.9458884390660832,
          0.8601132632488586,
          0.7647496565212638,
          0.6798158926785284,
          0.611779854824617,
          0.5539889211994318,
          0.48960884639906793,
          0.4174951015440863,
          0.347965033630978,
          0.2796365289217685,
          0.2141305287552694,
          0.15656786371257586,
          0.10845413815033675,
          0.06093377707192329,
          0.0134576933152101,
          -0.03347110301536948,
          -0.07890726061183256,
          -0.11471790016879285,
          -0.13134195534059862,
          -0.1403321979653025,
          -0.13973386603468832,
          -0.13526103186493418,
          -0.12565635300439015,
          -0.10841177354286079,
          -0.08897096101998964,
          -0.06846869225180076,
          -0.04559978433710406,
          -0.029190531983849858,
          -0.02143422637369289,
          -0.014958385289494504,
          -0.007460472089053948,
          0.0009221989699709326,
          0.015356706318375775,
          0.030249876740998664,
          0.03790430123872134,
          0.041832178216269916,
          0.047062232992724856,
          0.06018277597485836,
          0.07871302322303933,
          0.10446976262967479
         ],
         "yaxis": "y5"
        },
        {
         "line": {
          "color": "rgba(255,255,255,0)"
         },
         "mode": "lines",
         "name": "UC",
         "showlegend": false,
         "type": "scatter",
         "x": [
          0,
          1,
          2,
          3,
          4,
          5,
          6,
          7,
          8,
          9,
          10,
          11,
          12,
          13,
          14,
          15,
          16,
          17,
          18,
          19,
          20,
          21,
          22,
          23,
          24,
          25,
          26,
          27,
          28,
          29,
          30,
          31,
          32,
          33,
          34,
          35,
          36,
          37,
          38,
          39,
          40
         ],
         "xaxis": "x5",
         "y": [
          0,
          0.15304747431590104,
          0.255612644988503,
          0.3162199170916379,
          0.35692179152025816,
          0.3860615455964117,
          0.40813867832547746,
          0.4253877261793884,
          0.4383888064938791,
          0.4476050593848813,
          0.4538970316646743,
          0.45791461597500405,
          0.46025408352146463,
          0.46149995296203405,
          0.46209656539233357,
          0.4622847340892453,
          0.46229391064537795,
          0.46235067132009894,
          0.46266600234433103,
          0.463331788495,
          0.46420307110094655,
          0.46519571821006134,
          0.46617783193230367,
          0.46709620372987687,
          0.4678873326625378,
          0.46847535135265167,
          0.4688709718756313,
          0.4691051113455477,
          0.4692089262463737,
          0.4692514616348421,
          0.4692743941513205,
          0.46928556251992426,
          0.46928834061097185,
          0.46928838305941983,
          0.46930015378518664,
          0.4693458234395903,
          0.4694175208047713,
          0.46950483273894417,
          0.4696153184790672,
          0.46979594062622443,
          0.47010475218409253
         ],
         "yaxis": "y5"
        },
        {
         "fill": "tonexty",
         "fillcolor": "rgba(32, 146, 230,0.3)",
         "line": {
          "color": "rgba(255,255,255,0)"
         },
         "mode": "lines",
         "name": "LC",
         "showlegend": false,
         "type": "scatter",
         "x": [
          0,
          1,
          2,
          3,
          4,
          5,
          6,
          7,
          8,
          9,
          10,
          11,
          12,
          13,
          14,
          15,
          16,
          17,
          18,
          19,
          20,
          21,
          22,
          23,
          24,
          25,
          26,
          27,
          28,
          29,
          30,
          31,
          32,
          33,
          34,
          35,
          36,
          37,
          38,
          39,
          40
         ],
         "xaxis": "x5",
         "y": [
          0,
          -0.15304747431590104,
          -0.255612644988503,
          -0.3162199170916379,
          -0.35692179152025827,
          -0.3860615455964117,
          -0.4081386783254775,
          -0.42538772617938847,
          -0.43838880649387907,
          -0.4476050593848813,
          -0.4538970316646744,
          -0.45791461597500405,
          -0.46025408352146463,
          -0.46149995296203405,
          -0.46209656539233357,
          -0.4622847340892452,
          -0.46229391064537795,
          -0.46235067132009894,
          -0.46266600234433103,
          -0.46333178849500006,
          -0.4642030711009466,
          -0.46519571821006145,
          -0.46617783193230367,
          -0.4670962037298769,
          -0.4678873326625378,
          -0.46847535135265167,
          -0.4688709718756313,
          -0.4691051113455477,
          -0.4692089262463737,
          -0.4692514616348421,
          -0.4692743941513205,
          -0.46928556251992426,
          -0.46928834061097185,
          -0.46928838305941983,
          -0.46930015378518664,
          -0.46934582343959036,
          -0.4694175208047713,
          -0.46950483273894417,
          -0.4696153184790672,
          -0.46979594062622443,
          -0.4701047521840925
         ],
         "yaxis": "y5"
        },
        {
         "line": {
          "color": "#3f3f3f"
         },
         "mode": "lines",
         "name": "PACF",
         "showlegend": false,
         "type": "scattergl",
         "x": [
          0,
          0
         ],
         "xaxis": "x6",
         "y": [
          0,
          1
         ],
         "yaxis": "y6"
        },
        {
         "line": {
          "color": "#3f3f3f"
         },
         "mode": "lines",
         "name": "PACF",
         "showlegend": false,
         "type": "scattergl",
         "x": [
          1,
          1
         ],
         "xaxis": "x6",
         "y": [
          0,
          0.9516914356247708
         ],
         "yaxis": "y6"
        },
        {
         "line": {
          "color": "#3f3f3f"
         },
         "mode": "lines",
         "name": "PACF",
         "showlegend": false,
         "type": "scattergl",
         "x": [
          2,
          2
         ],
         "xaxis": "x6",
         "y": [
          0,
          -0.37105830841585263
         ],
         "yaxis": "y6"
        },
        {
         "line": {
          "color": "#3f3f3f"
         },
         "mode": "lines",
         "name": "PACF",
         "showlegend": false,
         "type": "scattergl",
         "x": [
          3,
          3
         ],
         "xaxis": "x6",
         "y": [
          0,
          -0.049441145559518195
         ],
         "yaxis": "y6"
        },
        {
         "line": {
          "color": "#3f3f3f"
         },
         "mode": "lines",
         "name": "PACF",
         "showlegend": false,
         "type": "scattergl",
         "x": [
          4,
          4
         ],
         "xaxis": "x6",
         "y": [
          0,
          0.10624767191968353
         ],
         "yaxis": "y6"
        },
        {
         "line": {
          "color": "#3f3f3f"
         },
         "mode": "lines",
         "name": "PACF",
         "showlegend": false,
         "type": "scattergl",
         "x": [
          5,
          5
         ],
         "xaxis": "x6",
         "y": [
          0,
          0.06614131198328127
         ],
         "yaxis": "y6"
        },
        {
         "line": {
          "color": "#3f3f3f"
         },
         "mode": "lines",
         "name": "PACF",
         "showlegend": false,
         "type": "scattergl",
         "x": [
          6,
          6
         ],
         "xaxis": "x6",
         "y": [
          0,
          -0.04389510669517179
         ],
         "yaxis": "y6"
        },
        {
         "line": {
          "color": "#3f3f3f"
         },
         "mode": "lines",
         "name": "PACF",
         "showlegend": false,
         "type": "scattergl",
         "x": [
          7,
          7
         ],
         "xaxis": "x6",
         "y": [
          0,
          -0.18080701952940312
         ],
         "yaxis": "y6"
        },
        {
         "line": {
          "color": "#3f3f3f"
         },
         "mode": "lines",
         "name": "PACF",
         "showlegend": false,
         "type": "scattergl",
         "x": [
          8,
          8
         ],
         "xaxis": "x6",
         "y": [
          0,
          -0.05596404866092948
         ],
         "yaxis": "y6"
        },
        {
         "line": {
          "color": "#3f3f3f"
         },
         "mode": "lines",
         "name": "PACF",
         "showlegend": false,
         "type": "scattergl",
         "x": [
          9,
          9
         ],
         "xaxis": "x6",
         "y": [
          0,
          0.07500749470728142
         ],
         "yaxis": "y6"
        },
        {
         "line": {
          "color": "#3f3f3f"
         },
         "mode": "lines",
         "name": "PACF",
         "showlegend": false,
         "type": "scattergl",
         "x": [
          10,
          10
         ],
         "xaxis": "x6",
         "y": [
          0,
          -0.08621269886840137
         ],
         "yaxis": "y6"
        },
        {
         "line": {
          "color": "#3f3f3f"
         },
         "mode": "lines",
         "name": "PACF",
         "showlegend": false,
         "type": "scattergl",
         "x": [
          11,
          11
         ],
         "xaxis": "x6",
         "y": [
          0,
          -0.08702472686014025
         ],
         "yaxis": "y6"
        },
        {
         "line": {
          "color": "#3f3f3f"
         },
         "mode": "lines",
         "name": "PACF",
         "showlegend": false,
         "type": "scattergl",
         "x": [
          12,
          12
         ],
         "xaxis": "x6",
         "y": [
          0,
          0.023868160294530618
         ],
         "yaxis": "y6"
        },
        {
         "line": {
          "color": "#3f3f3f"
         },
         "mode": "lines",
         "name": "PACF",
         "showlegend": false,
         "type": "scattergl",
         "x": [
          13,
          13
         ],
         "xaxis": "x6",
         "y": [
          0,
          0.050730563594685134
         ],
         "yaxis": "y6"
        },
        {
         "line": {
          "color": "#3f3f3f"
         },
         "mode": "lines",
         "name": "PACF",
         "showlegend": false,
         "type": "scattergl",
         "x": [
          14,
          14
         ],
         "xaxis": "x6",
         "y": [
          0,
          -0.11016103444642053
         ],
         "yaxis": "y6"
        },
        {
         "line": {
          "color": "#3f3f3f"
         },
         "mode": "lines",
         "name": "PACF",
         "showlegend": false,
         "type": "scattergl",
         "x": [
          15,
          15
         ],
         "xaxis": "x6",
         "y": [
          0,
          -0.07964910905384949
         ],
         "yaxis": "y6"
        },
        {
         "line": {
          "color": "#3f3f3f"
         },
         "mode": "lines",
         "name": "PACF",
         "showlegend": false,
         "type": "scattergl",
         "x": [
          16,
          16
         ],
         "xaxis": "x6",
         "y": [
          0,
          -0.009661265886066745
         ],
         "yaxis": "y6"
        },
        {
         "line": {
          "color": "#3f3f3f"
         },
         "mode": "lines",
         "name": "PACF",
         "showlegend": false,
         "type": "scattergl",
         "x": [
          17,
          17
         ],
         "xaxis": "x6",
         "y": [
          0,
          0.0020276010783742988
         ],
         "yaxis": "y6"
        },
        {
         "line": {
          "color": "#3f3f3f"
         },
         "mode": "lines",
         "name": "PACF",
         "showlegend": false,
         "type": "scattergl",
         "x": [
          18,
          18
         ],
         "xaxis": "x6",
         "y": [
          0,
          0.03771554061693797
         ],
         "yaxis": "y6"
        },
        {
         "line": {
          "color": "#3f3f3f"
         },
         "mode": "lines",
         "name": "PACF",
         "showlegend": false,
         "type": "scattergl",
         "x": [
          19,
          19
         ],
         "xaxis": "x6",
         "y": [
          0,
          0.09934271424484648
         ],
         "yaxis": "y6"
        },
        {
         "line": {
          "color": "#3f3f3f"
         },
         "mode": "lines",
         "name": "PACF",
         "showlegend": false,
         "type": "scattergl",
         "x": [
          20,
          20
         ],
         "xaxis": "x6",
         "y": [
          0,
          -0.08086707148566376
         ],
         "yaxis": "y6"
        },
        {
         "line": {
          "color": "#3f3f3f"
         },
         "mode": "lines",
         "name": "PACF",
         "showlegend": false,
         "type": "scattergl",
         "x": [
          21,
          21
         ],
         "xaxis": "x6",
         "y": [
          0,
          0.09309998066312847
         ],
         "yaxis": "y6"
        },
        {
         "line": {
          "color": "#3f3f3f"
         },
         "mode": "lines",
         "name": "PACF",
         "showlegend": false,
         "type": "scattergl",
         "x": [
          22,
          22
         ],
         "xaxis": "x6",
         "y": [
          0,
          0.010795516867501478
         ],
         "yaxis": "y6"
        },
        {
         "marker": {
          "color": "#1f77b4",
          "size": 6
         },
         "mode": "markers",
         "name": "PACF",
         "showlegend": false,
         "type": "scattergl",
         "x": [
          0,
          1,
          2,
          3,
          4,
          5,
          6,
          7,
          8,
          9,
          10,
          11,
          12,
          13,
          14,
          15,
          16,
          17,
          18,
          19,
          20,
          21,
          22
         ],
         "xaxis": "x6",
         "y": [
          1,
          0.9516914356247708,
          -0.37105830841585263,
          -0.049441145559518195,
          0.10624767191968353,
          0.06614131198328127,
          -0.04389510669517179,
          -0.18080701952940312,
          -0.05596404866092948,
          0.07500749470728142,
          -0.08621269886840137,
          -0.08702472686014025,
          0.023868160294530618,
          0.050730563594685134,
          -0.11016103444642053,
          -0.07964910905384949,
          -0.009661265886066745,
          0.0020276010783742988,
          0.03771554061693797,
          0.09934271424484648,
          -0.08086707148566376,
          0.09309998066312847,
          0.010795516867501478
         ],
         "yaxis": "y6"
        },
        {
         "line": {
          "color": "rgba(255,255,255,0)"
         },
         "mode": "lines",
         "name": "UC",
         "showlegend": false,
         "type": "scatter",
         "x": [
          0,
          1,
          2,
          3,
          4,
          5,
          6,
          7,
          8,
          9,
          10,
          11,
          12,
          13,
          14,
          15,
          16,
          17,
          18,
          19,
          20,
          21,
          22
         ],
         "xaxis": "x6",
         "y": [
          0,
          0.15304747431590093,
          0.153047474315901,
          0.153047474315901,
          0.153047474315901,
          0.153047474315901,
          0.153047474315901,
          0.153047474315901,
          0.153047474315901,
          0.153047474315901,
          0.153047474315901,
          0.153047474315901,
          0.153047474315901,
          0.153047474315901,
          0.153047474315901,
          0.153047474315901,
          0.153047474315901,
          0.153047474315901,
          0.153047474315901,
          0.153047474315901,
          0.153047474315901,
          0.153047474315901,
          0.153047474315901
         ],
         "yaxis": "y6"
        },
        {
         "fill": "tonexty",
         "fillcolor": "rgba(32, 146, 230,0.3)",
         "line": {
          "color": "rgba(255,255,255,0)"
         },
         "mode": "lines",
         "name": "LC",
         "showlegend": false,
         "type": "scatter",
         "x": [
          0,
          1,
          2,
          3,
          4,
          5,
          6,
          7,
          8,
          9,
          10,
          11,
          12,
          13,
          14,
          15,
          16,
          17,
          18,
          19,
          20,
          21,
          22
         ],
         "xaxis": "x6",
         "y": [
          0,
          -0.15304747431590093,
          -0.15304747431590104,
          -0.153047474315901,
          -0.153047474315901,
          -0.153047474315901,
          -0.153047474315901,
          -0.15304747431590096,
          -0.153047474315901,
          -0.153047474315901,
          -0.153047474315901,
          -0.153047474315901,
          -0.153047474315901,
          -0.153047474315901,
          -0.15304747431590096,
          -0.153047474315901,
          -0.153047474315901,
          -0.153047474315901,
          -0.153047474315901,
          -0.153047474315901,
          -0.153047474315901,
          -0.153047474315901,
          -0.153047474315901
         ],
         "yaxis": "y6"
        }
       ],
       "layout": {
        "annotations": [
         {
          "font": {
           "size": 16
          },
          "showarrow": false,
          "text": "temperature (transformed)",
          "x": 0.225,
          "xanchor": "center",
          "xref": "paper",
          "y": 1,
          "yanchor": "bottom",
          "yref": "paper"
         },
         {
          "font": {
           "size": 16
          },
          "showarrow": false,
          "text": "Periodogram",
          "x": 0.775,
          "xanchor": "center",
          "xref": "paper",
          "y": 1,
          "yanchor": "bottom",
          "yref": "paper"
         },
         {
          "font": {
           "size": 16
          },
          "showarrow": false,
          "text": "Histogram",
          "x": 0.225,
          "xanchor": "center",
          "xref": "paper",
          "y": 0.6111111111111112,
          "yanchor": "bottom",
          "yref": "paper"
         },
         {
          "font": {
           "size": 16
          },
          "showarrow": false,
          "text": "Q-Q Plot",
          "x": 0.775,
          "xanchor": "center",
          "xref": "paper",
          "y": 0.6111111111111112,
          "yanchor": "bottom",
          "yref": "paper"
         },
         {
          "font": {
           "size": 16
          },
          "showarrow": false,
          "text": "ACF",
          "x": 0.225,
          "xanchor": "center",
          "xref": "paper",
          "y": 0.22222222222222227,
          "yanchor": "bottom",
          "yref": "paper"
         },
         {
          "font": {
           "size": 16
          },
          "showarrow": false,
          "text": "PACF",
          "x": 0.775,
          "xanchor": "center",
          "xref": "paper",
          "y": 0.22222222222222227,
          "yanchor": "bottom",
          "yref": "paper"
         }
        ],
        "showlegend": false,
        "template": {
         "data": {
          "bar": [
           {
            "error_x": {
             "color": "rgb(51,51,51)"
            },
            "error_y": {
             "color": "rgb(51,51,51)"
            },
            "marker": {
             "line": {
              "color": "rgb(237,237,237)",
              "width": 0.5
             },
             "pattern": {
              "fillmode": "overlay",
              "size": 10,
              "solidity": 0.2
             }
            },
            "type": "bar"
           }
          ],
          "barpolar": [
           {
            "marker": {
             "line": {
              "color": "rgb(237,237,237)",
              "width": 0.5
             },
             "pattern": {
              "fillmode": "overlay",
              "size": 10,
              "solidity": 0.2
             }
            },
            "type": "barpolar"
           }
          ],
          "carpet": [
           {
            "aaxis": {
             "endlinecolor": "rgb(51,51,51)",
             "gridcolor": "white",
             "linecolor": "white",
             "minorgridcolor": "white",
             "startlinecolor": "rgb(51,51,51)"
            },
            "baxis": {
             "endlinecolor": "rgb(51,51,51)",
             "gridcolor": "white",
             "linecolor": "white",
             "minorgridcolor": "white",
             "startlinecolor": "rgb(51,51,51)"
            },
            "type": "carpet"
           }
          ],
          "choropleth": [
           {
            "colorbar": {
             "outlinewidth": 0,
             "tickcolor": "rgb(237,237,237)",
             "ticklen": 6,
             "ticks": "inside"
            },
            "type": "choropleth"
           }
          ],
          "contour": [
           {
            "colorbar": {
             "outlinewidth": 0,
             "tickcolor": "rgb(237,237,237)",
             "ticklen": 6,
             "ticks": "inside"
            },
            "colorscale": [
             [
              0,
              "rgb(20,44,66)"
             ],
             [
              1,
              "rgb(90,179,244)"
             ]
            ],
            "type": "contour"
           }
          ],
          "contourcarpet": [
           {
            "colorbar": {
             "outlinewidth": 0,
             "tickcolor": "rgb(237,237,237)",
             "ticklen": 6,
             "ticks": "inside"
            },
            "type": "contourcarpet"
           }
          ],
          "heatmap": [
           {
            "colorbar": {
             "outlinewidth": 0,
             "tickcolor": "rgb(237,237,237)",
             "ticklen": 6,
             "ticks": "inside"
            },
            "colorscale": [
             [
              0,
              "rgb(20,44,66)"
             ],
             [
              1,
              "rgb(90,179,244)"
             ]
            ],
            "type": "heatmap"
           }
          ],
          "heatmapgl": [
           {
            "colorbar": {
             "outlinewidth": 0,
             "tickcolor": "rgb(237,237,237)",
             "ticklen": 6,
             "ticks": "inside"
            },
            "colorscale": [
             [
              0,
              "rgb(20,44,66)"
             ],
             [
              1,
              "rgb(90,179,244)"
             ]
            ],
            "type": "heatmapgl"
           }
          ],
          "histogram": [
           {
            "marker": {
             "pattern": {
              "fillmode": "overlay",
              "size": 10,
              "solidity": 0.2
             }
            },
            "type": "histogram"
           }
          ],
          "histogram2d": [
           {
            "colorbar": {
             "outlinewidth": 0,
             "tickcolor": "rgb(237,237,237)",
             "ticklen": 6,
             "ticks": "inside"
            },
            "colorscale": [
             [
              0,
              "rgb(20,44,66)"
             ],
             [
              1,
              "rgb(90,179,244)"
             ]
            ],
            "type": "histogram2d"
           }
          ],
          "histogram2dcontour": [
           {
            "colorbar": {
             "outlinewidth": 0,
             "tickcolor": "rgb(237,237,237)",
             "ticklen": 6,
             "ticks": "inside"
            },
            "colorscale": [
             [
              0,
              "rgb(20,44,66)"
             ],
             [
              1,
              "rgb(90,179,244)"
             ]
            ],
            "type": "histogram2dcontour"
           }
          ],
          "mesh3d": [
           {
            "colorbar": {
             "outlinewidth": 0,
             "tickcolor": "rgb(237,237,237)",
             "ticklen": 6,
             "ticks": "inside"
            },
            "type": "mesh3d"
           }
          ],
          "parcoords": [
           {
            "line": {
             "colorbar": {
              "outlinewidth": 0,
              "tickcolor": "rgb(237,237,237)",
              "ticklen": 6,
              "ticks": "inside"
             }
            },
            "type": "parcoords"
           }
          ],
          "pie": [
           {
            "automargin": true,
            "type": "pie"
           }
          ],
          "scatter": [
           {
            "fillpattern": {
             "fillmode": "overlay",
             "size": 10,
             "solidity": 0.2
            },
            "type": "scatter"
           }
          ],
          "scatter3d": [
           {
            "line": {
             "colorbar": {
              "outlinewidth": 0,
              "tickcolor": "rgb(237,237,237)",
              "ticklen": 6,
              "ticks": "inside"
             }
            },
            "marker": {
             "colorbar": {
              "outlinewidth": 0,
              "tickcolor": "rgb(237,237,237)",
              "ticklen": 6,
              "ticks": "inside"
             }
            },
            "type": "scatter3d"
           }
          ],
          "scattercarpet": [
           {
            "marker": {
             "colorbar": {
              "outlinewidth": 0,
              "tickcolor": "rgb(237,237,237)",
              "ticklen": 6,
              "ticks": "inside"
             }
            },
            "type": "scattercarpet"
           }
          ],
          "scattergeo": [
           {
            "marker": {
             "colorbar": {
              "outlinewidth": 0,
              "tickcolor": "rgb(237,237,237)",
              "ticklen": 6,
              "ticks": "inside"
             }
            },
            "type": "scattergeo"
           }
          ],
          "scattergl": [
           {
            "marker": {
             "colorbar": {
              "outlinewidth": 0,
              "tickcolor": "rgb(237,237,237)",
              "ticklen": 6,
              "ticks": "inside"
             }
            },
            "type": "scattergl"
           }
          ],
          "scattermapbox": [
           {
            "marker": {
             "colorbar": {
              "outlinewidth": 0,
              "tickcolor": "rgb(237,237,237)",
              "ticklen": 6,
              "ticks": "inside"
             }
            },
            "type": "scattermapbox"
           }
          ],
          "scatterpolar": [
           {
            "marker": {
             "colorbar": {
              "outlinewidth": 0,
              "tickcolor": "rgb(237,237,237)",
              "ticklen": 6,
              "ticks": "inside"
             }
            },
            "type": "scatterpolar"
           }
          ],
          "scatterpolargl": [
           {
            "marker": {
             "colorbar": {
              "outlinewidth": 0,
              "tickcolor": "rgb(237,237,237)",
              "ticklen": 6,
              "ticks": "inside"
             }
            },
            "type": "scatterpolargl"
           }
          ],
          "scatterternary": [
           {
            "marker": {
             "colorbar": {
              "outlinewidth": 0,
              "tickcolor": "rgb(237,237,237)",
              "ticklen": 6,
              "ticks": "inside"
             }
            },
            "type": "scatterternary"
           }
          ],
          "surface": [
           {
            "colorbar": {
             "outlinewidth": 0,
             "tickcolor": "rgb(237,237,237)",
             "ticklen": 6,
             "ticks": "inside"
            },
            "colorscale": [
             [
              0,
              "rgb(20,44,66)"
             ],
             [
              1,
              "rgb(90,179,244)"
             ]
            ],
            "type": "surface"
           }
          ],
          "table": [
           {
            "cells": {
             "fill": {
              "color": "rgb(237,237,237)"
             },
             "line": {
              "color": "white"
             }
            },
            "header": {
             "fill": {
              "color": "rgb(217,217,217)"
             },
             "line": {
              "color": "white"
             }
            },
            "type": "table"
           }
          ]
         },
         "layout": {
          "annotationdefaults": {
           "arrowhead": 0,
           "arrowwidth": 1
          },
          "autotypenumbers": "strict",
          "coloraxis": {
           "colorbar": {
            "outlinewidth": 0,
            "tickcolor": "rgb(237,237,237)",
            "ticklen": 6,
            "ticks": "inside"
           }
          },
          "colorscale": {
           "sequential": [
            [
             0,
             "rgb(20,44,66)"
            ],
            [
             1,
             "rgb(90,179,244)"
            ]
           ],
           "sequentialminus": [
            [
             0,
             "rgb(20,44,66)"
            ],
            [
             1,
             "rgb(90,179,244)"
            ]
           ]
          },
          "colorway": [
           "#F8766D",
           "#A3A500",
           "#00BF7D",
           "#00B0F6",
           "#E76BF3"
          ],
          "font": {
           "color": "rgb(51,51,51)"
          },
          "geo": {
           "bgcolor": "white",
           "lakecolor": "white",
           "landcolor": "rgb(237,237,237)",
           "showlakes": true,
           "showland": true,
           "subunitcolor": "white"
          },
          "hoverlabel": {
           "align": "left"
          },
          "hovermode": "closest",
          "paper_bgcolor": "white",
          "plot_bgcolor": "rgb(237,237,237)",
          "polar": {
           "angularaxis": {
            "gridcolor": "white",
            "linecolor": "white",
            "showgrid": true,
            "tickcolor": "rgb(51,51,51)",
            "ticks": "outside"
           },
           "bgcolor": "rgb(237,237,237)",
           "radialaxis": {
            "gridcolor": "white",
            "linecolor": "white",
            "showgrid": true,
            "tickcolor": "rgb(51,51,51)",
            "ticks": "outside"
           }
          },
          "scene": {
           "xaxis": {
            "backgroundcolor": "rgb(237,237,237)",
            "gridcolor": "white",
            "gridwidth": 2,
            "linecolor": "white",
            "showbackground": true,
            "showgrid": true,
            "tickcolor": "rgb(51,51,51)",
            "ticks": "outside",
            "zerolinecolor": "white"
           },
           "yaxis": {
            "backgroundcolor": "rgb(237,237,237)",
            "gridcolor": "white",
            "gridwidth": 2,
            "linecolor": "white",
            "showbackground": true,
            "showgrid": true,
            "tickcolor": "rgb(51,51,51)",
            "ticks": "outside",
            "zerolinecolor": "white"
           },
           "zaxis": {
            "backgroundcolor": "rgb(237,237,237)",
            "gridcolor": "white",
            "gridwidth": 2,
            "linecolor": "white",
            "showbackground": true,
            "showgrid": true,
            "tickcolor": "rgb(51,51,51)",
            "ticks": "outside",
            "zerolinecolor": "white"
           }
          },
          "shapedefaults": {
           "fillcolor": "black",
           "line": {
            "width": 0
           },
           "opacity": 0.3
          },
          "ternary": {
           "aaxis": {
            "gridcolor": "white",
            "linecolor": "white",
            "showgrid": true,
            "tickcolor": "rgb(51,51,51)",
            "ticks": "outside"
           },
           "baxis": {
            "gridcolor": "white",
            "linecolor": "white",
            "showgrid": true,
            "tickcolor": "rgb(51,51,51)",
            "ticks": "outside"
           },
           "bgcolor": "rgb(237,237,237)",
           "caxis": {
            "gridcolor": "white",
            "linecolor": "white",
            "showgrid": true,
            "tickcolor": "rgb(51,51,51)",
            "ticks": "outside"
           }
          },
          "xaxis": {
           "automargin": true,
           "gridcolor": "white",
           "linecolor": "white",
           "showgrid": true,
           "tickcolor": "rgb(51,51,51)",
           "ticks": "outside",
           "title": {
            "standoff": 15
           },
           "zerolinecolor": "white"
          },
          "yaxis": {
           "automargin": true,
           "gridcolor": "white",
           "linecolor": "white",
           "showgrid": true,
           "tickcolor": "rgb(51,51,51)",
           "ticks": "outside",
           "title": {
            "standoff": 15
           },
           "zerolinecolor": "white"
          }
         }
        },
        "title": {
         "text": "Diagnostics | temperature"
        },
        "xaxis": {
         "anchor": "y",
         "domain": [
          0,
          0.45
         ]
        },
        "xaxis2": {
         "anchor": "y2",
         "domain": [
          0.55,
          1
         ],
         "range": [
          0,
          0.5
         ]
        },
        "xaxis3": {
         "anchor": "y3",
         "domain": [
          0,
          0.45
         ],
         "title": {
          "text": "Range of Values"
         }
        },
        "xaxis4": {
         "anchor": "y4",
         "domain": [
          0.55,
          1
         ],
         "title": {
          "text": "Theoretical Quantities"
         }
        },
        "xaxis5": {
         "anchor": "y5",
         "domain": [
          0,
          0.45
         ],
         "range": [
          -1,
          42
         ]
        },
        "xaxis6": {
         "anchor": "y6",
         "domain": [
          0.55,
          1
         ],
         "range": [
          -1,
          24
         ]
        },
        "yaxis": {
         "anchor": "x",
         "domain": [
          0.7777777777777779,
          1
         ]
        },
        "yaxis2": {
         "anchor": "x2",
         "domain": [
          0.7777777777777779,
          1
         ]
        },
        "yaxis3": {
         "anchor": "x3",
         "domain": [
          0.38888888888888895,
          0.6111111111111112
         ],
         "title": {
          "text": "PDF"
         }
        },
        "yaxis4": {
         "anchor": "x4",
         "domain": [
          0.38888888888888895,
          0.6111111111111112
         ],
         "title": {
          "text": "Sample Quantities"
         }
        },
        "yaxis5": {
         "anchor": "x5",
         "domain": [
          0,
          0.22222222222222227
         ],
         "range": [
          -1.1,
          1.1
         ],
         "zerolinecolor": "#000000"
        },
        "yaxis6": {
         "anchor": "x6",
         "domain": [
          0,
          0.22222222222222227
         ],
         "range": [
          -1.1,
          1.1
         ],
         "zerolinecolor": "#000000"
        }
       }
      }
     },
     "metadata": {},
     "output_type": "display_data"
    }
   ],
   "source": [
    "exp_ts.plot_model(plot=\"diagnostics\")"
   ]
  },
  {
   "cell_type": "code",
   "execution_count": 80,
   "metadata": {},
   "outputs": [
    {
     "ename": "ValueError",
     "evalue": "Estimator prophet Not Available. Please see docstring for list of available estimators.",
     "output_type": "error",
     "traceback": [
      "\u001b[1;31m---------------------------------------------------------------------------\u001b[0m",
      "\u001b[1;31mValueError\u001b[0m                                Traceback (most recent call last)",
      "Cell \u001b[1;32mIn[80], line 1\u001b[0m\n\u001b[1;32m----> 1\u001b[0m best_models \u001b[38;5;241m=\u001b[39m \u001b[43mexp_ts\u001b[49m\u001b[38;5;241;43m.\u001b[39;49m\u001b[43mcompare_models\u001b[49m\u001b[43m(\u001b[49m\n\u001b[0;32m      2\u001b[0m \u001b[43m    \u001b[49m\u001b[43minclude\u001b[49m\u001b[38;5;241;43m=\u001b[39;49m\u001b[43m[\u001b[49m\u001b[38;5;124;43m'\u001b[39;49m\u001b[38;5;124;43mprophet\u001b[39;49m\u001b[38;5;124;43m'\u001b[39;49m\u001b[43m,\u001b[49m\u001b[43m \u001b[49m\u001b[38;5;124;43m'\u001b[39;49m\u001b[38;5;124;43marima\u001b[39;49m\u001b[38;5;124;43m'\u001b[39;49m\u001b[43m,\u001b[49m\u001b[43m \u001b[49m\u001b[38;5;124;43m'\u001b[39;49m\u001b[38;5;124;43mauto_arima\u001b[39;49m\u001b[38;5;124;43m'\u001b[39;49m\u001b[43m,\u001b[49m\u001b[43m \u001b[49m\u001b[38;5;124;43m'\u001b[39;49m\u001b[38;5;124;43mgrand_means\u001b[39;49m\u001b[38;5;124;43m'\u001b[39;49m\u001b[43m,\u001b[49m\u001b[43m \u001b[49m\u001b[38;5;124;43m'\u001b[39;49m\u001b[38;5;124;43mnaive\u001b[39;49m\u001b[38;5;124;43m'\u001b[39;49m\u001b[43m,\u001b[49m\u001b[43m \u001b[49m\u001b[38;5;124;43m'\u001b[39;49m\u001b[38;5;124;43mets\u001b[39;49m\u001b[38;5;124;43m'\u001b[39;49m\u001b[43m,\u001b[49m\u001b[43m \u001b[49m\u001b[38;5;124;43m'\u001b[39;49m\u001b[38;5;124;43mnaive\u001b[39;49m\u001b[38;5;124;43m'\u001b[39;49m\u001b[43m,\u001b[49m\u001b[43m \u001b[49m\u001b[38;5;124;43m'\u001b[39;49m\u001b[38;5;124;43mtbats\u001b[39;49m\u001b[38;5;124;43m'\u001b[39;49m\u001b[43m]\u001b[49m\u001b[43m,\u001b[49m\n\u001b[0;32m      3\u001b[0m \u001b[43m    \u001b[49m\u001b[43mn_select\u001b[49m\u001b[38;5;241;43m=\u001b[39;49m\u001b[38;5;241;43m5\u001b[39;49m\n\u001b[0;32m      4\u001b[0m \u001b[43m)\u001b[49m\n\u001b[0;32m      6\u001b[0m \u001b[38;5;66;03m#tuned_models = [exp_ts.tune_model(model) for model in best_models]\u001b[39;00m\n\u001b[0;32m      7\u001b[0m blended_model \u001b[38;5;241m=\u001b[39m exp_ts\u001b[38;5;241m.\u001b[39mblend_models(estimator_list\u001b[38;5;241m=\u001b[39mbest_models)\n",
      "File \u001b[1;32mc:\\Users\\eminl\\Desktop\\IoT project\\prediction\\flask\\lib\\site-packages\\pycaret\\time_series\\forecasting\\oop.py:2315\u001b[0m, in \u001b[0;36mTSForecastingExperiment.compare_models\u001b[1;34m(self, include, exclude, fold, round, cross_validation, sort, n_select, budget_time, turbo, errors, fit_kwargs, experiment_custom_tags, engine, verbose, parallel)\u001b[0m\n\u001b[0;32m   2312\u001b[0m         \u001b[38;5;28mself\u001b[39m\u001b[38;5;241m.\u001b[39m_set_engine(estimator\u001b[38;5;241m=\u001b[39mestimator, engine\u001b[38;5;241m=\u001b[39meng, severity\u001b[38;5;241m=\u001b[39m\u001b[38;5;124m\"\u001b[39m\u001b[38;5;124merror\u001b[39m\u001b[38;5;124m\"\u001b[39m)\n\u001b[0;32m   2314\u001b[0m \u001b[38;5;28;01mtry\u001b[39;00m:\n\u001b[1;32m-> 2315\u001b[0m     return_values \u001b[38;5;241m=\u001b[39m \u001b[38;5;28;43msuper\u001b[39;49m\u001b[43m(\u001b[49m\u001b[43m)\u001b[49m\u001b[38;5;241;43m.\u001b[39;49m\u001b[43mcompare_models\u001b[49m\u001b[43m(\u001b[49m\n\u001b[0;32m   2316\u001b[0m \u001b[43m        \u001b[49m\u001b[43minclude\u001b[49m\u001b[38;5;241;43m=\u001b[39;49m\u001b[43minclude\u001b[49m\u001b[43m,\u001b[49m\n\u001b[0;32m   2317\u001b[0m \u001b[43m        \u001b[49m\u001b[43mexclude\u001b[49m\u001b[38;5;241;43m=\u001b[39;49m\u001b[43mexclude\u001b[49m\u001b[43m,\u001b[49m\n\u001b[0;32m   2318\u001b[0m \u001b[43m        \u001b[49m\u001b[43mfold\u001b[49m\u001b[38;5;241;43m=\u001b[39;49m\u001b[43mfold\u001b[49m\u001b[43m,\u001b[49m\n\u001b[0;32m   2319\u001b[0m \u001b[43m        \u001b[49m\u001b[38;5;28;43mround\u001b[39;49m\u001b[38;5;241;43m=\u001b[39;49m\u001b[38;5;28;43mround\u001b[39;49m\u001b[43m,\u001b[49m\n\u001b[0;32m   2320\u001b[0m \u001b[43m        \u001b[49m\u001b[43mcross_validation\u001b[49m\u001b[38;5;241;43m=\u001b[39;49m\u001b[43mcross_validation\u001b[49m\u001b[43m,\u001b[49m\n\u001b[0;32m   2321\u001b[0m \u001b[43m        \u001b[49m\u001b[43msort\u001b[49m\u001b[38;5;241;43m=\u001b[39;49m\u001b[43msort\u001b[49m\u001b[43m,\u001b[49m\n\u001b[0;32m   2322\u001b[0m \u001b[43m        \u001b[49m\u001b[43mn_select\u001b[49m\u001b[38;5;241;43m=\u001b[39;49m\u001b[43mn_select\u001b[49m\u001b[43m,\u001b[49m\n\u001b[0;32m   2323\u001b[0m \u001b[43m        \u001b[49m\u001b[43mbudget_time\u001b[49m\u001b[38;5;241;43m=\u001b[39;49m\u001b[43mbudget_time\u001b[49m\u001b[43m,\u001b[49m\n\u001b[0;32m   2324\u001b[0m \u001b[43m        \u001b[49m\u001b[43mturbo\u001b[49m\u001b[38;5;241;43m=\u001b[39;49m\u001b[43mturbo\u001b[49m\u001b[43m,\u001b[49m\n\u001b[0;32m   2325\u001b[0m \u001b[43m        \u001b[49m\u001b[43merrors\u001b[49m\u001b[38;5;241;43m=\u001b[39;49m\u001b[43merrors\u001b[49m\u001b[43m,\u001b[49m\n\u001b[0;32m   2326\u001b[0m \u001b[43m        \u001b[49m\u001b[43mfit_kwargs\u001b[49m\u001b[38;5;241;43m=\u001b[39;49m\u001b[43mfit_kwargs\u001b[49m\u001b[43m,\u001b[49m\n\u001b[0;32m   2327\u001b[0m \u001b[43m        \u001b[49m\u001b[43mexperiment_custom_tags\u001b[49m\u001b[38;5;241;43m=\u001b[39;49m\u001b[43mexperiment_custom_tags\u001b[49m\u001b[43m,\u001b[49m\n\u001b[0;32m   2328\u001b[0m \u001b[43m        \u001b[49m\u001b[43mverbose\u001b[49m\u001b[38;5;241;43m=\u001b[39;49m\u001b[43mverbose\u001b[49m\u001b[43m,\u001b[49m\n\u001b[0;32m   2329\u001b[0m \u001b[43m        \u001b[49m\u001b[43mparallel\u001b[49m\u001b[38;5;241;43m=\u001b[39;49m\u001b[43mparallel\u001b[49m\u001b[43m,\u001b[49m\n\u001b[0;32m   2330\u001b[0m \u001b[43m        \u001b[49m\u001b[43mcaller_params\u001b[49m\u001b[38;5;241;43m=\u001b[39;49m\u001b[43mcaller_params\u001b[49m\u001b[43m,\u001b[49m\n\u001b[0;32m   2331\u001b[0m \u001b[43m    \u001b[49m\u001b[43m)\u001b[49m\n\u001b[0;32m   2332\u001b[0m \u001b[38;5;28;01mfinally\u001b[39;00m:\n\u001b[0;32m   2333\u001b[0m     \u001b[38;5;28;01mif\u001b[39;00m engine \u001b[38;5;129;01mis\u001b[39;00m \u001b[38;5;129;01mnot\u001b[39;00m \u001b[38;5;28;01mNone\u001b[39;00m:\n\u001b[0;32m   2334\u001b[0m         \u001b[38;5;66;03m# Reset the models back to the default engines\u001b[39;00m\n",
      "File \u001b[1;32mc:\\Users\\eminl\\Desktop\\IoT project\\prediction\\flask\\lib\\site-packages\\pycaret\\internal\\pycaret_experiment\\supervised_experiment.py:557\u001b[0m, in \u001b[0;36m_SupervisedExperiment.compare_models\u001b[1;34m(self, include, exclude, fold, round, cross_validation, sort, n_select, budget_time, turbo, errors, fit_kwargs, groups, experiment_custom_tags, probability_threshold, verbose, parallel, caller_params)\u001b[0m\n\u001b[0;32m    555\u001b[0m \u001b[38;5;28;01mif\u001b[39;00m \u001b[38;5;28misinstance\u001b[39m(i, \u001b[38;5;28mstr\u001b[39m):\n\u001b[0;32m    556\u001b[0m     \u001b[38;5;28;01mif\u001b[39;00m i \u001b[38;5;129;01mnot\u001b[39;00m \u001b[38;5;129;01min\u001b[39;00m available_estimators:\n\u001b[1;32m--> 557\u001b[0m         \u001b[38;5;28;01mraise\u001b[39;00m \u001b[38;5;167;01mValueError\u001b[39;00m(\n\u001b[0;32m    558\u001b[0m             \u001b[38;5;124mf\u001b[39m\u001b[38;5;124m\"\u001b[39m\u001b[38;5;124mEstimator \u001b[39m\u001b[38;5;132;01m{\u001b[39;00mi\u001b[38;5;132;01m}\u001b[39;00m\u001b[38;5;124m Not Available. Please see docstring for list of available estimators.\u001b[39m\u001b[38;5;124m\"\u001b[39m\n\u001b[0;32m    559\u001b[0m         )\n\u001b[0;32m    560\u001b[0m \u001b[38;5;28;01melif\u001b[39;00m \u001b[38;5;129;01mnot\u001b[39;00m \u001b[38;5;28mhasattr\u001b[39m(i, \u001b[38;5;124m\"\u001b[39m\u001b[38;5;124mfit\u001b[39m\u001b[38;5;124m\"\u001b[39m):\n\u001b[0;32m    561\u001b[0m     \u001b[38;5;28;01mraise\u001b[39;00m \u001b[38;5;167;01mValueError\u001b[39;00m(\n\u001b[0;32m    562\u001b[0m         \u001b[38;5;124mf\u001b[39m\u001b[38;5;124m\"\u001b[39m\u001b[38;5;124mEstimator \u001b[39m\u001b[38;5;132;01m{\u001b[39;00mi\u001b[38;5;132;01m}\u001b[39;00m\u001b[38;5;124m does not have the required fit() method.\u001b[39m\u001b[38;5;124m\"\u001b[39m\n\u001b[0;32m    563\u001b[0m     )\n",
      "\u001b[1;31mValueError\u001b[0m: Estimator prophet Not Available. Please see docstring for list of available estimators."
     ]
    }
   ],
   "source": [
    "best_models = exp_ts.compare_models(\n",
    "    include=['prophet', 'arima', 'auto_arima', 'grand_means', 'naive', 'ets', 'naive', 'tbats'],\n",
    "    n_select=5\n",
    ")\n",
    "\n",
    "#tuned_models = [exp_ts.tune_model(model) for model in best_models]\n",
    "blended_model = exp_ts.blend_models(estimator_list=best_models)\n",
    "exp_ts.plot_model(blended_model, plot=\"forecast\")"
   ]
  },
  {
   "cell_type": "code",
   "execution_count": 81,
   "metadata": {},
   "outputs": [],
   "source": [
    "from sklearn.metrics import mean_squared_error, mean_absolute_error, r2_score\n",
    "from sklearn.model_selection import train_test_split\n",
    "\n",
    "df_train, df_test = train_test_split(df, test_size=0.2, shuffle=False)"
   ]
  },
  {
   "cell_type": "code",
   "execution_count": 82,
   "metadata": {},
   "outputs": [
    {
     "name": "stdout",
     "output_type": "stream",
     "text": [
      "                                  SARIMAX Results                                   \n",
      "====================================================================================\n",
      "Dep. Variable:                  temperature   No. Observations:                  131\n",
      "Model:             ARIMA([1, 15, 18], 0, 3)   Log Likelihood                 -20.172\n",
      "Date:                      Thu, 11 Jan 2024   AIC                             56.345\n",
      "Time:                              01:26:53   BIC                             79.347\n",
      "Sample:                          01-10-2024   HQIC                            65.692\n",
      "                               - 01-10-2024                                         \n",
      "Covariance Type:                        opg                                         \n",
      "==============================================================================\n",
      "                 coef    std err          z      P>|z|      [0.025      0.975]\n",
      "------------------------------------------------------------------------------\n",
      "const         24.4512      0.286     85.528      0.000      23.891      25.012\n",
      "ar.L1          0.8208      0.055     14.837      0.000       0.712       0.929\n",
      "ar.L15         0.0203      0.065      0.311      0.755      -0.107       0.148\n",
      "ar.L18        -0.1042      0.093     -1.126      0.260      -0.286       0.077\n",
      "ma.L1          0.4658      0.070      6.693      0.000       0.329       0.602\n",
      "ma.L2          0.2909      0.096      3.020      0.003       0.102       0.480\n",
      "ma.L3          0.1795      0.092      1.957      0.050      -0.000       0.359\n",
      "sigma2         0.0778      0.008      9.579      0.000       0.062       0.094\n",
      "===================================================================================\n",
      "Ljung-Box (L1) (Q):                   0.01   Jarque-Bera (JB):               202.02\n",
      "Prob(Q):                              0.94   Prob(JB):                         0.00\n",
      "Heteroskedasticity (H):               0.30   Skew:                             1.04\n",
      "Prob(H) (two-sided):                  0.00   Kurtosis:                         8.72\n",
      "===================================================================================\n",
      "\n",
      "Warnings:\n",
      "[1] Covariance matrix calculated using the outer product of gradients (complex-step).\n",
      "                0\n",
      "count  131.000000\n",
      "mean     0.001051\n",
      "std      0.288466\n",
      "min     -0.980341\n",
      "25%     -0.122991\n",
      "50%     -0.034951\n",
      "75%      0.076062\n",
      "max      1.341431\n"
     ]
    }
   ],
   "source": [
    "from statsmodels.tsa.arima.model import ARIMA\n",
    "from matplotlib import pyplot as plt\n",
    "\n",
    "arima_model = ARIMA(df_train, order=([1, 15, 18], 0, 3))\n",
    "arima_model_fit = arima_model.fit()\n",
    "# summary of fit model\n",
    "print(arima_model_fit.summary())\n",
    "# line plot of residuals\n",
    "residuals = pd.DataFrame(arima_model_fit.resid)\n",
    "residuals.plot()\n",
    "plt.show()\n",
    "# density plot of residuals\n",
    "residuals.plot(kind='kde')\n",
    "plt.show()\n",
    "# summary stats of residuals\n",
    "print(residuals.describe())"
   ]
  },
  {
   "cell_type": "code",
   "execution_count": 83,
   "metadata": {},
   "outputs": [
    {
     "data": {
      "text/plain": [
       "2024-01-10 23:20    23.842675\n",
       "2024-01-10 23:22    23.967909\n",
       "2024-01-10 23:24    24.098594\n",
       "2024-01-10 23:26    24.210980\n",
       "2024-01-10 23:28    24.305250\n",
       "2024-01-10 23:30    24.386230\n",
       "2024-01-10 23:32    24.456749\n",
       "2024-01-10 23:34    24.515284\n",
       "2024-01-10 23:36    24.560386\n",
       "2024-01-10 23:38    24.589855\n",
       "2024-01-10 23:40    24.606565\n",
       "2024-01-10 23:42    24.629865\n",
       "2024-01-10 23:44    24.659842\n",
       "2024-01-10 23:46    24.682709\n",
       "2024-01-10 23:48    24.695789\n",
       "2024-01-10 23:50    24.714252\n",
       "2024-01-10 23:52    24.731949\n",
       "2024-01-10 23:54    24.747314\n",
       "2024-01-10 23:56    24.752775\n",
       "2024-01-10 23:58    24.746120\n",
       "2024-01-11 00:00    24.728681\n",
       "2024-01-11 00:02    24.704087\n",
       "2024-01-11 00:04    24.675265\n",
       "2024-01-11 00:06    24.644086\n",
       "2024-01-11 00:08    24.611743\n",
       "2024-01-11 00:10    24.579437\n",
       "2024-01-11 00:12    24.548693\n",
       "2024-01-11 00:14    24.520997\n",
       "2024-01-11 00:16    24.496988\n",
       "2024-01-11 00:18    24.475120\n",
       "2024-01-11 00:20    24.454422\n",
       "2024-01-11 00:22    24.435410\n",
       "2024-01-11 00:24    24.418754\n",
       "Freq: 2T, Name: predicted_mean, dtype: float64"
      ]
     },
     "execution_count": 83,
     "metadata": {},
     "output_type": "execute_result"
    }
   ],
   "source": [
    "preds = arima_model_fit.forecast(steps=df_test.shape[0])\n",
    "preds"
   ]
  },
  {
   "cell_type": "code",
   "execution_count": 84,
   "metadata": {},
   "outputs": [
    {
     "data": {
      "text/html": [
       "<div>\n",
       "<style scoped>\n",
       "    .dataframe tbody tr th:only-of-type {\n",
       "        vertical-align: middle;\n",
       "    }\n",
       "\n",
       "    .dataframe tbody tr th {\n",
       "        vertical-align: top;\n",
       "    }\n",
       "\n",
       "    .dataframe thead th {\n",
       "        text-align: right;\n",
       "    }\n",
       "</style>\n",
       "<table border=\"1\" class=\"dataframe\">\n",
       "  <thead>\n",
       "    <tr style=\"text-align: right;\">\n",
       "      <th></th>\n",
       "      <th>createdAt</th>\n",
       "      <th>predicted_mean</th>\n",
       "    </tr>\n",
       "  </thead>\n",
       "  <tbody>\n",
       "    <tr>\n",
       "      <th>0</th>\n",
       "      <td>2024-01-10 23:20:00</td>\n",
       "      <td>23.842675</td>\n",
       "    </tr>\n",
       "    <tr>\n",
       "      <th>1</th>\n",
       "      <td>2024-01-10 23:22:00</td>\n",
       "      <td>23.967909</td>\n",
       "    </tr>\n",
       "    <tr>\n",
       "      <th>2</th>\n",
       "      <td>2024-01-10 23:24:00</td>\n",
       "      <td>24.098594</td>\n",
       "    </tr>\n",
       "    <tr>\n",
       "      <th>3</th>\n",
       "      <td>2024-01-10 23:26:00</td>\n",
       "      <td>24.210980</td>\n",
       "    </tr>\n",
       "    <tr>\n",
       "      <th>4</th>\n",
       "      <td>2024-01-10 23:28:00</td>\n",
       "      <td>24.305250</td>\n",
       "    </tr>\n",
       "    <tr>\n",
       "      <th>5</th>\n",
       "      <td>2024-01-10 23:30:00</td>\n",
       "      <td>24.386230</td>\n",
       "    </tr>\n",
       "    <tr>\n",
       "      <th>6</th>\n",
       "      <td>2024-01-10 23:32:00</td>\n",
       "      <td>24.456749</td>\n",
       "    </tr>\n",
       "    <tr>\n",
       "      <th>7</th>\n",
       "      <td>2024-01-10 23:34:00</td>\n",
       "      <td>24.515284</td>\n",
       "    </tr>\n",
       "    <tr>\n",
       "      <th>8</th>\n",
       "      <td>2024-01-10 23:36:00</td>\n",
       "      <td>24.560386</td>\n",
       "    </tr>\n",
       "    <tr>\n",
       "      <th>9</th>\n",
       "      <td>2024-01-10 23:38:00</td>\n",
       "      <td>24.589855</td>\n",
       "    </tr>\n",
       "    <tr>\n",
       "      <th>10</th>\n",
       "      <td>2024-01-10 23:40:00</td>\n",
       "      <td>24.606565</td>\n",
       "    </tr>\n",
       "    <tr>\n",
       "      <th>11</th>\n",
       "      <td>2024-01-10 23:42:00</td>\n",
       "      <td>24.629865</td>\n",
       "    </tr>\n",
       "    <tr>\n",
       "      <th>12</th>\n",
       "      <td>2024-01-10 23:44:00</td>\n",
       "      <td>24.659842</td>\n",
       "    </tr>\n",
       "    <tr>\n",
       "      <th>13</th>\n",
       "      <td>2024-01-10 23:46:00</td>\n",
       "      <td>24.682709</td>\n",
       "    </tr>\n",
       "    <tr>\n",
       "      <th>14</th>\n",
       "      <td>2024-01-10 23:48:00</td>\n",
       "      <td>24.695789</td>\n",
       "    </tr>\n",
       "    <tr>\n",
       "      <th>15</th>\n",
       "      <td>2024-01-10 23:50:00</td>\n",
       "      <td>24.714252</td>\n",
       "    </tr>\n",
       "    <tr>\n",
       "      <th>16</th>\n",
       "      <td>2024-01-10 23:52:00</td>\n",
       "      <td>24.731949</td>\n",
       "    </tr>\n",
       "    <tr>\n",
       "      <th>17</th>\n",
       "      <td>2024-01-10 23:54:00</td>\n",
       "      <td>24.747314</td>\n",
       "    </tr>\n",
       "    <tr>\n",
       "      <th>18</th>\n",
       "      <td>2024-01-10 23:56:00</td>\n",
       "      <td>24.752775</td>\n",
       "    </tr>\n",
       "    <tr>\n",
       "      <th>19</th>\n",
       "      <td>2024-01-10 23:58:00</td>\n",
       "      <td>24.746120</td>\n",
       "    </tr>\n",
       "    <tr>\n",
       "      <th>20</th>\n",
       "      <td>2024-01-11 00:00:00</td>\n",
       "      <td>24.728681</td>\n",
       "    </tr>\n",
       "    <tr>\n",
       "      <th>21</th>\n",
       "      <td>2024-01-11 00:02:00</td>\n",
       "      <td>24.704087</td>\n",
       "    </tr>\n",
       "    <tr>\n",
       "      <th>22</th>\n",
       "      <td>2024-01-11 00:04:00</td>\n",
       "      <td>24.675265</td>\n",
       "    </tr>\n",
       "    <tr>\n",
       "      <th>23</th>\n",
       "      <td>2024-01-11 00:06:00</td>\n",
       "      <td>24.644086</td>\n",
       "    </tr>\n",
       "    <tr>\n",
       "      <th>24</th>\n",
       "      <td>2024-01-11 00:08:00</td>\n",
       "      <td>24.611743</td>\n",
       "    </tr>\n",
       "    <tr>\n",
       "      <th>25</th>\n",
       "      <td>2024-01-11 00:10:00</td>\n",
       "      <td>24.579437</td>\n",
       "    </tr>\n",
       "    <tr>\n",
       "      <th>26</th>\n",
       "      <td>2024-01-11 00:12:00</td>\n",
       "      <td>24.548693</td>\n",
       "    </tr>\n",
       "    <tr>\n",
       "      <th>27</th>\n",
       "      <td>2024-01-11 00:14:00</td>\n",
       "      <td>24.520997</td>\n",
       "    </tr>\n",
       "    <tr>\n",
       "      <th>28</th>\n",
       "      <td>2024-01-11 00:16:00</td>\n",
       "      <td>24.496988</td>\n",
       "    </tr>\n",
       "    <tr>\n",
       "      <th>29</th>\n",
       "      <td>2024-01-11 00:18:00</td>\n",
       "      <td>24.475120</td>\n",
       "    </tr>\n",
       "    <tr>\n",
       "      <th>30</th>\n",
       "      <td>2024-01-11 00:20:00</td>\n",
       "      <td>24.454422</td>\n",
       "    </tr>\n",
       "    <tr>\n",
       "      <th>31</th>\n",
       "      <td>2024-01-11 00:22:00</td>\n",
       "      <td>24.435410</td>\n",
       "    </tr>\n",
       "    <tr>\n",
       "      <th>32</th>\n",
       "      <td>2024-01-11 00:24:00</td>\n",
       "      <td>24.418754</td>\n",
       "    </tr>\n",
       "  </tbody>\n",
       "</table>\n",
       "</div>"
      ],
      "text/plain": [
       "             createdAt  predicted_mean\n",
       "0  2024-01-10 23:20:00       23.842675\n",
       "1  2024-01-10 23:22:00       23.967909\n",
       "2  2024-01-10 23:24:00       24.098594\n",
       "3  2024-01-10 23:26:00       24.210980\n",
       "4  2024-01-10 23:28:00       24.305250\n",
       "5  2024-01-10 23:30:00       24.386230\n",
       "6  2024-01-10 23:32:00       24.456749\n",
       "7  2024-01-10 23:34:00       24.515284\n",
       "8  2024-01-10 23:36:00       24.560386\n",
       "9  2024-01-10 23:38:00       24.589855\n",
       "10 2024-01-10 23:40:00       24.606565\n",
       "11 2024-01-10 23:42:00       24.629865\n",
       "12 2024-01-10 23:44:00       24.659842\n",
       "13 2024-01-10 23:46:00       24.682709\n",
       "14 2024-01-10 23:48:00       24.695789\n",
       "15 2024-01-10 23:50:00       24.714252\n",
       "16 2024-01-10 23:52:00       24.731949\n",
       "17 2024-01-10 23:54:00       24.747314\n",
       "18 2024-01-10 23:56:00       24.752775\n",
       "19 2024-01-10 23:58:00       24.746120\n",
       "20 2024-01-11 00:00:00       24.728681\n",
       "21 2024-01-11 00:02:00       24.704087\n",
       "22 2024-01-11 00:04:00       24.675265\n",
       "23 2024-01-11 00:06:00       24.644086\n",
       "24 2024-01-11 00:08:00       24.611743\n",
       "25 2024-01-11 00:10:00       24.579437\n",
       "26 2024-01-11 00:12:00       24.548693\n",
       "27 2024-01-11 00:14:00       24.520997\n",
       "28 2024-01-11 00:16:00       24.496988\n",
       "29 2024-01-11 00:18:00       24.475120\n",
       "30 2024-01-11 00:20:00       24.454422\n",
       "31 2024-01-11 00:22:00       24.435410\n",
       "32 2024-01-11 00:24:00       24.418754"
      ]
     },
     "execution_count": 84,
     "metadata": {},
     "output_type": "execute_result"
    }
   ],
   "source": [
    "df_pred = pd.DataFrame(preds).reset_index(names=\"createdAt\")\n",
    "df_pred[\"createdAt\"] = df_pred[\"createdAt\"].apply(lambda x: x.to_timestamp())\n",
    "df_pred"
   ]
  },
  {
   "cell_type": "code",
   "execution_count": 85,
   "metadata": {},
   "outputs": [
    {
     "data": {
      "text/html": [
       "<div>\n",
       "<style scoped>\n",
       "    .dataframe tbody tr th:only-of-type {\n",
       "        vertical-align: middle;\n",
       "    }\n",
       "\n",
       "    .dataframe tbody tr th {\n",
       "        vertical-align: top;\n",
       "    }\n",
       "\n",
       "    .dataframe thead th {\n",
       "        text-align: right;\n",
       "    }\n",
       "</style>\n",
       "<table border=\"1\" class=\"dataframe\">\n",
       "  <thead>\n",
       "    <tr style=\"text-align: right;\">\n",
       "      <th></th>\n",
       "      <th>createdAt</th>\n",
       "      <th>temperature</th>\n",
       "    </tr>\n",
       "  </thead>\n",
       "  <tbody>\n",
       "    <tr>\n",
       "      <th>0</th>\n",
       "      <td>2024-01-10 18:58:00</td>\n",
       "      <td>23.733333</td>\n",
       "    </tr>\n",
       "    <tr>\n",
       "      <th>1</th>\n",
       "      <td>2024-01-10 19:00:00</td>\n",
       "      <td>24.187500</td>\n",
       "    </tr>\n",
       "    <tr>\n",
       "      <th>2</th>\n",
       "      <td>2024-01-10 19:02:00</td>\n",
       "      <td>24.160000</td>\n",
       "    </tr>\n",
       "    <tr>\n",
       "      <th>3</th>\n",
       "      <td>2024-01-10 19:04:00</td>\n",
       "      <td>25.550000</td>\n",
       "    </tr>\n",
       "    <tr>\n",
       "      <th>4</th>\n",
       "      <td>2024-01-10 19:06:00</td>\n",
       "      <td>26.280952</td>\n",
       "    </tr>\n",
       "    <tr>\n",
       "      <th>...</th>\n",
       "      <td>...</td>\n",
       "      <td>...</td>\n",
       "    </tr>\n",
       "    <tr>\n",
       "      <th>159</th>\n",
       "      <td>2024-01-11 00:16:00</td>\n",
       "      <td>23.450000</td>\n",
       "    </tr>\n",
       "    <tr>\n",
       "      <th>160</th>\n",
       "      <td>2024-01-11 00:18:00</td>\n",
       "      <td>23.354167</td>\n",
       "    </tr>\n",
       "    <tr>\n",
       "      <th>161</th>\n",
       "      <td>2024-01-11 00:20:00</td>\n",
       "      <td>23.308333</td>\n",
       "    </tr>\n",
       "    <tr>\n",
       "      <th>162</th>\n",
       "      <td>2024-01-11 00:22:00</td>\n",
       "      <td>23.245833</td>\n",
       "    </tr>\n",
       "    <tr>\n",
       "      <th>163</th>\n",
       "      <td>2024-01-11 00:24:00</td>\n",
       "      <td>23.211111</td>\n",
       "    </tr>\n",
       "  </tbody>\n",
       "</table>\n",
       "<p>164 rows × 2 columns</p>\n",
       "</div>"
      ],
      "text/plain": [
       "              createdAt  temperature\n",
       "0   2024-01-10 18:58:00    23.733333\n",
       "1   2024-01-10 19:00:00    24.187500\n",
       "2   2024-01-10 19:02:00    24.160000\n",
       "3   2024-01-10 19:04:00    25.550000\n",
       "4   2024-01-10 19:06:00    26.280952\n",
       "..                  ...          ...\n",
       "159 2024-01-11 00:16:00    23.450000\n",
       "160 2024-01-11 00:18:00    23.354167\n",
       "161 2024-01-11 00:20:00    23.308333\n",
       "162 2024-01-11 00:22:00    23.245833\n",
       "163 2024-01-11 00:24:00    23.211111\n",
       "\n",
       "[164 rows x 2 columns]"
      ]
     },
     "execution_count": 85,
     "metadata": {},
     "output_type": "execute_result"
    }
   ],
   "source": [
    "df = df.reset_index()\n",
    "df[\"createdAt\"] = df[\"createdAt\"].apply(lambda x: x.to_timestamp())\n",
    "df"
   ]
  },
  {
   "cell_type": "code",
   "execution_count": 86,
   "metadata": {},
   "outputs": [
    {
     "data": {
      "application/vnd.plotly.v1+json": {
       "config": {
        "plotlyServerURL": "https://plot.ly"
       },
       "data": [
        {
         "marker": {
          "color": "blue"
         },
         "mode": "lines",
         "name": "Actual",
         "type": "scatter",
         "x": [
          "2024-01-10T18:58:00",
          "2024-01-10T19:00:00",
          "2024-01-10T19:02:00",
          "2024-01-10T19:04:00",
          "2024-01-10T19:06:00",
          "2024-01-10T19:08:00",
          "2024-01-10T19:10:00",
          "2024-01-10T19:12:00",
          "2024-01-10T19:14:00",
          "2024-01-10T19:16:00",
          "2024-01-10T19:18:00",
          "2024-01-10T19:20:00",
          "2024-01-10T19:22:00",
          "2024-01-10T19:24:00",
          "2024-01-10T19:26:00",
          "2024-01-10T19:28:00",
          "2024-01-10T19:30:00",
          "2024-01-10T19:32:00",
          "2024-01-10T19:34:00",
          "2024-01-10T19:36:00",
          "2024-01-10T19:38:00",
          "2024-01-10T19:40:00",
          "2024-01-10T19:42:00",
          "2024-01-10T19:44:00",
          "2024-01-10T19:46:00",
          "2024-01-10T19:48:00",
          "2024-01-10T19:50:00",
          "2024-01-10T19:52:00",
          "2024-01-10T19:54:00",
          "2024-01-10T19:56:00",
          "2024-01-10T19:58:00",
          "2024-01-10T20:00:00",
          "2024-01-10T20:02:00",
          "2024-01-10T20:04:00",
          "2024-01-10T20:06:00",
          "2024-01-10T20:08:00",
          "2024-01-10T20:10:00",
          "2024-01-10T20:12:00",
          "2024-01-10T20:14:00",
          "2024-01-10T20:16:00",
          "2024-01-10T20:18:00",
          "2024-01-10T20:20:00",
          "2024-01-10T20:22:00",
          "2024-01-10T20:24:00",
          "2024-01-10T20:26:00",
          "2024-01-10T20:28:00",
          "2024-01-10T20:30:00",
          "2024-01-10T20:32:00",
          "2024-01-10T20:34:00",
          "2024-01-10T20:36:00",
          "2024-01-10T20:38:00",
          "2024-01-10T20:40:00",
          "2024-01-10T20:42:00",
          "2024-01-10T20:44:00",
          "2024-01-10T20:46:00",
          "2024-01-10T20:48:00",
          "2024-01-10T20:50:00",
          "2024-01-10T20:52:00",
          "2024-01-10T20:54:00",
          "2024-01-10T20:56:00",
          "2024-01-10T20:58:00",
          "2024-01-10T21:00:00",
          "2024-01-10T21:02:00",
          "2024-01-10T21:04:00",
          "2024-01-10T21:06:00",
          "2024-01-10T21:08:00",
          "2024-01-10T21:10:00",
          "2024-01-10T21:12:00",
          "2024-01-10T21:14:00",
          "2024-01-10T21:16:00",
          "2024-01-10T21:18:00",
          "2024-01-10T21:20:00",
          "2024-01-10T21:22:00",
          "2024-01-10T21:24:00",
          "2024-01-10T21:26:00",
          "2024-01-10T21:28:00",
          "2024-01-10T21:30:00",
          "2024-01-10T21:32:00",
          "2024-01-10T21:34:00",
          "2024-01-10T21:36:00",
          "2024-01-10T21:38:00",
          "2024-01-10T21:40:00",
          "2024-01-10T21:42:00",
          "2024-01-10T21:44:00",
          "2024-01-10T21:46:00",
          "2024-01-10T21:48:00",
          "2024-01-10T21:50:00",
          "2024-01-10T21:52:00",
          "2024-01-10T21:54:00",
          "2024-01-10T21:56:00",
          "2024-01-10T21:58:00",
          "2024-01-10T22:00:00",
          "2024-01-10T22:02:00",
          "2024-01-10T22:04:00",
          "2024-01-10T22:06:00",
          "2024-01-10T22:08:00",
          "2024-01-10T22:10:00",
          "2024-01-10T22:12:00",
          "2024-01-10T22:14:00",
          "2024-01-10T22:16:00",
          "2024-01-10T22:18:00",
          "2024-01-10T22:20:00",
          "2024-01-10T22:22:00",
          "2024-01-10T22:24:00",
          "2024-01-10T22:26:00",
          "2024-01-10T22:28:00",
          "2024-01-10T22:30:00",
          "2024-01-10T22:32:00",
          "2024-01-10T22:34:00",
          "2024-01-10T22:36:00",
          "2024-01-10T22:38:00",
          "2024-01-10T22:40:00",
          "2024-01-10T22:42:00",
          "2024-01-10T22:44:00",
          "2024-01-10T22:46:00",
          "2024-01-10T22:48:00",
          "2024-01-10T22:50:00",
          "2024-01-10T22:52:00",
          "2024-01-10T22:54:00",
          "2024-01-10T22:56:00",
          "2024-01-10T22:58:00",
          "2024-01-10T23:00:00",
          "2024-01-10T23:02:00",
          "2024-01-10T23:04:00",
          "2024-01-10T23:06:00",
          "2024-01-10T23:08:00",
          "2024-01-10T23:10:00",
          "2024-01-10T23:12:00",
          "2024-01-10T23:14:00",
          "2024-01-10T23:16:00",
          "2024-01-10T23:18:00",
          "2024-01-10T23:20:00",
          "2024-01-10T23:22:00",
          "2024-01-10T23:24:00",
          "2024-01-10T23:26:00",
          "2024-01-10T23:28:00",
          "2024-01-10T23:30:00",
          "2024-01-10T23:32:00",
          "2024-01-10T23:34:00",
          "2024-01-10T23:36:00",
          "2024-01-10T23:38:00",
          "2024-01-10T23:40:00",
          "2024-01-10T23:42:00",
          "2024-01-10T23:44:00",
          "2024-01-10T23:46:00",
          "2024-01-10T23:48:00",
          "2024-01-10T23:50:00",
          "2024-01-10T23:52:00",
          "2024-01-10T23:54:00",
          "2024-01-10T23:56:00",
          "2024-01-10T23:58:00",
          "2024-01-11T00:00:00",
          "2024-01-11T00:02:00",
          "2024-01-11T00:04:00",
          "2024-01-11T00:06:00",
          "2024-01-11T00:08:00",
          "2024-01-11T00:10:00",
          "2024-01-11T00:12:00",
          "2024-01-11T00:14:00",
          "2024-01-11T00:16:00",
          "2024-01-11T00:18:00",
          "2024-01-11T00:20:00",
          "2024-01-11T00:22:00",
          "2024-01-11T00:24:00"
         ],
         "y": [
          23.733333333333334,
          24.1875,
          24.160000000000004,
          25.55,
          26.280952380952378,
          26.910526315789475,
          26.650000000000002,
          25.316666666666666,
          24.933333333333334,
          24.695833333333336,
          24.412499999999998,
          24.25,
          24.495833333333334,
          24.284000000000002,
          24.054166666666664,
          23.974999999999998,
          23.99047619047619,
          24.02916666666667,
          24.114285714285714,
          24.275000000000002,
          24.145833333333332,
          24.2375,
          24.454166666666666,
          24.245833333333334,
          24.124000000000002,
          23.962500000000002,
          24.020833333333332,
          24.504166666666666,
          24.354166666666668,
          24.09166666666667,
          23.9875,
          23.97083333333333,
          24.195999999999998,
          24.175,
          24.016666666666666,
          23.912499999999998,
          23.858333333333334,
          23.837500000000002,
          23.837500000000002,
          23.775000000000002,
          23.764,
          23.72083333333333,
          23.870833333333334,
          23.821052631578947,
          24.1,
          23.7,
          24.776190476190475,
          25.625,
          26.22,
          26.21666666666667,
          26.075,
          25.866666666666664,
          26.09166666666667,
          26.3875,
          26.8125,
          26.744,
          26.933333333333334,
          27.008333333333336,
          26.6875,
          26.7625,
          27.166666666666668,
          26.925,
          26.368000000000002,
          26.474999999999998,
          25.40416666666667,
          24.795833333333334,
          24.650000000000002,
          24.47083333333333,
          24.195833333333336,
          24.104,
          24.037499999999998,
          24.087500000000002,
          24.09166666666667,
          24.016666666666666,
          23.97083333333333,
          23.924999999999997,
          23.896,
          23.875,
          23.829166666666666,
          23.86521739130435,
          23.728571428571428,
          23.775000000000002,
          23.820833333333336,
          23.866666666666664,
          23.823809523809523,
          23.7625,
          23.84583333333333,
          24.599999999999998,
          25.215999999999998,
          24.829166666666666,
          24.61666666666667,
          24.46666666666667,
          24.266666666666666,
          24.379166666666666,
          24.52916666666667,
          24.484,
          24.554166666666664,
          24.65833333333333,
          24.508333333333336,
          24.329166666666666,
          24.266666666666666,
          24.09583333333333,
          24.05,
          24.256,
          24.125,
          24.0125,
          23.904166666666665,
          23.816666666666666,
          23.787499999999998,
          23.766666666666666,
          23.8,
          23.77916666666667,
          23.787499999999998,
          23.808333333333334,
          23.829166666666666,
          23.78333333333333,
          23.84583333333333,
          23.828000000000003,
          23.795833333333334,
          23.766666666666666,
          23.775000000000002,
          23.787499999999998,
          23.837500000000002,
          23.912499999999998,
          23.83181818181818,
          23.71666666666667,
          23.733333333333334,
          23.791304347826088,
          23.73478260869565,
          23.73478260869565,
          23.752173913043475,
          23.770833333333332,
          23.752,
          23.766666666666666,
          23.747826086956525,
          23.73,
          23.786956521739132,
          23.829166666666666,
          23.88181818181818,
          23.825,
          23.79090909090909,
          23.820833333333336,
          23.8125,
          23.775000000000002,
          23.791666666666668,
          23.77916666666667,
          23.77916666666667,
          23.744,
          23.679166666666664,
          23.725,
          23.723529411764705,
          23.733333333333334,
          23.829166666666666,
          23.92105263157895,
          23.995833333333334,
          23.834782608695654,
          23.668000000000003,
          23.569565217391304,
          23.504,
          23.45,
          23.354166666666668,
          23.308333333333334,
          23.245833333333334,
          23.211111111111112
         ]
        },
        {
         "marker": {
          "color": "red"
         },
         "mode": "lines",
         "name": "Predicted",
         "type": "scatter",
         "x": [
          "2024-01-10T23:20:00",
          "2024-01-10T23:22:00",
          "2024-01-10T23:24:00",
          "2024-01-10T23:26:00",
          "2024-01-10T23:28:00",
          "2024-01-10T23:30:00",
          "2024-01-10T23:32:00",
          "2024-01-10T23:34:00",
          "2024-01-10T23:36:00",
          "2024-01-10T23:38:00",
          "2024-01-10T23:40:00",
          "2024-01-10T23:42:00",
          "2024-01-10T23:44:00",
          "2024-01-10T23:46:00",
          "2024-01-10T23:48:00",
          "2024-01-10T23:50:00",
          "2024-01-10T23:52:00",
          "2024-01-10T23:54:00",
          "2024-01-10T23:56:00",
          "2024-01-10T23:58:00",
          "2024-01-11T00:00:00",
          "2024-01-11T00:02:00",
          "2024-01-11T00:04:00",
          "2024-01-11T00:06:00",
          "2024-01-11T00:08:00",
          "2024-01-11T00:10:00",
          "2024-01-11T00:12:00",
          "2024-01-11T00:14:00",
          "2024-01-11T00:16:00",
          "2024-01-11T00:18:00",
          "2024-01-11T00:20:00",
          "2024-01-11T00:22:00",
          "2024-01-11T00:24:00"
         ],
         "y": [
          23.842675309847127,
          23.967909194705904,
          24.09859390140929,
          24.210979965153,
          24.305250066856804,
          24.386229628377194,
          24.456749451431037,
          24.515283669739116,
          24.560385733854915,
          24.58985522188377,
          24.606564716889217,
          24.62986464260742,
          24.659841742160978,
          24.68270888456747,
          24.695788851610498,
          24.714252295459964,
          24.73194884466628,
          24.747314129637026,
          24.75277513077214,
          24.746119531566887,
          24.72868117960807,
          24.704087436322492,
          24.675265491387975,
          24.644085612776287,
          24.611743156141582,
          24.57943656583489,
          24.548693079163264,
          24.520997280955573,
          24.496988390861514,
          24.47512004555611,
          24.454421992666283,
          24.435409888531286,
          24.418754220030543
         ]
        }
       ],
       "layout": {
        "shapes": [
         {
          "line": {
           "color": "red",
           "dash": "dash",
           "width": 3
          },
          "type": "line",
          "x0": "2024-01-10T23:20:00",
          "x1": "2024-01-10T23:20:00",
          "xref": "x",
          "y0": 0,
          "y1": 1,
          "yref": "y domain"
         }
        ],
        "template": {
         "data": {
          "bar": [
           {
            "error_x": {
             "color": "#2a3f5f"
            },
            "error_y": {
             "color": "#2a3f5f"
            },
            "marker": {
             "line": {
              "color": "#E5ECF6",
              "width": 0.5
             },
             "pattern": {
              "fillmode": "overlay",
              "size": 10,
              "solidity": 0.2
             }
            },
            "type": "bar"
           }
          ],
          "barpolar": [
           {
            "marker": {
             "line": {
              "color": "#E5ECF6",
              "width": 0.5
             },
             "pattern": {
              "fillmode": "overlay",
              "size": 10,
              "solidity": 0.2
             }
            },
            "type": "barpolar"
           }
          ],
          "carpet": [
           {
            "aaxis": {
             "endlinecolor": "#2a3f5f",
             "gridcolor": "white",
             "linecolor": "white",
             "minorgridcolor": "white",
             "startlinecolor": "#2a3f5f"
            },
            "baxis": {
             "endlinecolor": "#2a3f5f",
             "gridcolor": "white",
             "linecolor": "white",
             "minorgridcolor": "white",
             "startlinecolor": "#2a3f5f"
            },
            "type": "carpet"
           }
          ],
          "choropleth": [
           {
            "colorbar": {
             "outlinewidth": 0,
             "ticks": ""
            },
            "type": "choropleth"
           }
          ],
          "contour": [
           {
            "colorbar": {
             "outlinewidth": 0,
             "ticks": ""
            },
            "colorscale": [
             [
              0,
              "#0d0887"
             ],
             [
              0.1111111111111111,
              "#46039f"
             ],
             [
              0.2222222222222222,
              "#7201a8"
             ],
             [
              0.3333333333333333,
              "#9c179e"
             ],
             [
              0.4444444444444444,
              "#bd3786"
             ],
             [
              0.5555555555555556,
              "#d8576b"
             ],
             [
              0.6666666666666666,
              "#ed7953"
             ],
             [
              0.7777777777777778,
              "#fb9f3a"
             ],
             [
              0.8888888888888888,
              "#fdca26"
             ],
             [
              1,
              "#f0f921"
             ]
            ],
            "type": "contour"
           }
          ],
          "contourcarpet": [
           {
            "colorbar": {
             "outlinewidth": 0,
             "ticks": ""
            },
            "type": "contourcarpet"
           }
          ],
          "heatmap": [
           {
            "colorbar": {
             "outlinewidth": 0,
             "ticks": ""
            },
            "colorscale": [
             [
              0,
              "#0d0887"
             ],
             [
              0.1111111111111111,
              "#46039f"
             ],
             [
              0.2222222222222222,
              "#7201a8"
             ],
             [
              0.3333333333333333,
              "#9c179e"
             ],
             [
              0.4444444444444444,
              "#bd3786"
             ],
             [
              0.5555555555555556,
              "#d8576b"
             ],
             [
              0.6666666666666666,
              "#ed7953"
             ],
             [
              0.7777777777777778,
              "#fb9f3a"
             ],
             [
              0.8888888888888888,
              "#fdca26"
             ],
             [
              1,
              "#f0f921"
             ]
            ],
            "type": "heatmap"
           }
          ],
          "heatmapgl": [
           {
            "colorbar": {
             "outlinewidth": 0,
             "ticks": ""
            },
            "colorscale": [
             [
              0,
              "#0d0887"
             ],
             [
              0.1111111111111111,
              "#46039f"
             ],
             [
              0.2222222222222222,
              "#7201a8"
             ],
             [
              0.3333333333333333,
              "#9c179e"
             ],
             [
              0.4444444444444444,
              "#bd3786"
             ],
             [
              0.5555555555555556,
              "#d8576b"
             ],
             [
              0.6666666666666666,
              "#ed7953"
             ],
             [
              0.7777777777777778,
              "#fb9f3a"
             ],
             [
              0.8888888888888888,
              "#fdca26"
             ],
             [
              1,
              "#f0f921"
             ]
            ],
            "type": "heatmapgl"
           }
          ],
          "histogram": [
           {
            "marker": {
             "pattern": {
              "fillmode": "overlay",
              "size": 10,
              "solidity": 0.2
             }
            },
            "type": "histogram"
           }
          ],
          "histogram2d": [
           {
            "colorbar": {
             "outlinewidth": 0,
             "ticks": ""
            },
            "colorscale": [
             [
              0,
              "#0d0887"
             ],
             [
              0.1111111111111111,
              "#46039f"
             ],
             [
              0.2222222222222222,
              "#7201a8"
             ],
             [
              0.3333333333333333,
              "#9c179e"
             ],
             [
              0.4444444444444444,
              "#bd3786"
             ],
             [
              0.5555555555555556,
              "#d8576b"
             ],
             [
              0.6666666666666666,
              "#ed7953"
             ],
             [
              0.7777777777777778,
              "#fb9f3a"
             ],
             [
              0.8888888888888888,
              "#fdca26"
             ],
             [
              1,
              "#f0f921"
             ]
            ],
            "type": "histogram2d"
           }
          ],
          "histogram2dcontour": [
           {
            "colorbar": {
             "outlinewidth": 0,
             "ticks": ""
            },
            "colorscale": [
             [
              0,
              "#0d0887"
             ],
             [
              0.1111111111111111,
              "#46039f"
             ],
             [
              0.2222222222222222,
              "#7201a8"
             ],
             [
              0.3333333333333333,
              "#9c179e"
             ],
             [
              0.4444444444444444,
              "#bd3786"
             ],
             [
              0.5555555555555556,
              "#d8576b"
             ],
             [
              0.6666666666666666,
              "#ed7953"
             ],
             [
              0.7777777777777778,
              "#fb9f3a"
             ],
             [
              0.8888888888888888,
              "#fdca26"
             ],
             [
              1,
              "#f0f921"
             ]
            ],
            "type": "histogram2dcontour"
           }
          ],
          "mesh3d": [
           {
            "colorbar": {
             "outlinewidth": 0,
             "ticks": ""
            },
            "type": "mesh3d"
           }
          ],
          "parcoords": [
           {
            "line": {
             "colorbar": {
              "outlinewidth": 0,
              "ticks": ""
             }
            },
            "type": "parcoords"
           }
          ],
          "pie": [
           {
            "automargin": true,
            "type": "pie"
           }
          ],
          "scatter": [
           {
            "fillpattern": {
             "fillmode": "overlay",
             "size": 10,
             "solidity": 0.2
            },
            "type": "scatter"
           }
          ],
          "scatter3d": [
           {
            "line": {
             "colorbar": {
              "outlinewidth": 0,
              "ticks": ""
             }
            },
            "marker": {
             "colorbar": {
              "outlinewidth": 0,
              "ticks": ""
             }
            },
            "type": "scatter3d"
           }
          ],
          "scattercarpet": [
           {
            "marker": {
             "colorbar": {
              "outlinewidth": 0,
              "ticks": ""
             }
            },
            "type": "scattercarpet"
           }
          ],
          "scattergeo": [
           {
            "marker": {
             "colorbar": {
              "outlinewidth": 0,
              "ticks": ""
             }
            },
            "type": "scattergeo"
           }
          ],
          "scattergl": [
           {
            "marker": {
             "colorbar": {
              "outlinewidth": 0,
              "ticks": ""
             }
            },
            "type": "scattergl"
           }
          ],
          "scattermapbox": [
           {
            "marker": {
             "colorbar": {
              "outlinewidth": 0,
              "ticks": ""
             }
            },
            "type": "scattermapbox"
           }
          ],
          "scatterpolar": [
           {
            "marker": {
             "colorbar": {
              "outlinewidth": 0,
              "ticks": ""
             }
            },
            "type": "scatterpolar"
           }
          ],
          "scatterpolargl": [
           {
            "marker": {
             "colorbar": {
              "outlinewidth": 0,
              "ticks": ""
             }
            },
            "type": "scatterpolargl"
           }
          ],
          "scatterternary": [
           {
            "marker": {
             "colorbar": {
              "outlinewidth": 0,
              "ticks": ""
             }
            },
            "type": "scatterternary"
           }
          ],
          "surface": [
           {
            "colorbar": {
             "outlinewidth": 0,
             "ticks": ""
            },
            "colorscale": [
             [
              0,
              "#0d0887"
             ],
             [
              0.1111111111111111,
              "#46039f"
             ],
             [
              0.2222222222222222,
              "#7201a8"
             ],
             [
              0.3333333333333333,
              "#9c179e"
             ],
             [
              0.4444444444444444,
              "#bd3786"
             ],
             [
              0.5555555555555556,
              "#d8576b"
             ],
             [
              0.6666666666666666,
              "#ed7953"
             ],
             [
              0.7777777777777778,
              "#fb9f3a"
             ],
             [
              0.8888888888888888,
              "#fdca26"
             ],
             [
              1,
              "#f0f921"
             ]
            ],
            "type": "surface"
           }
          ],
          "table": [
           {
            "cells": {
             "fill": {
              "color": "#EBF0F8"
             },
             "line": {
              "color": "white"
             }
            },
            "header": {
             "fill": {
              "color": "#C8D4E3"
             },
             "line": {
              "color": "white"
             }
            },
            "type": "table"
           }
          ]
         },
         "layout": {
          "annotationdefaults": {
           "arrowcolor": "#2a3f5f",
           "arrowhead": 0,
           "arrowwidth": 1
          },
          "autotypenumbers": "strict",
          "coloraxis": {
           "colorbar": {
            "outlinewidth": 0,
            "ticks": ""
           }
          },
          "colorscale": {
           "diverging": [
            [
             0,
             "#8e0152"
            ],
            [
             0.1,
             "#c51b7d"
            ],
            [
             0.2,
             "#de77ae"
            ],
            [
             0.3,
             "#f1b6da"
            ],
            [
             0.4,
             "#fde0ef"
            ],
            [
             0.5,
             "#f7f7f7"
            ],
            [
             0.6,
             "#e6f5d0"
            ],
            [
             0.7,
             "#b8e186"
            ],
            [
             0.8,
             "#7fbc41"
            ],
            [
             0.9,
             "#4d9221"
            ],
            [
             1,
             "#276419"
            ]
           ],
           "sequential": [
            [
             0,
             "#0d0887"
            ],
            [
             0.1111111111111111,
             "#46039f"
            ],
            [
             0.2222222222222222,
             "#7201a8"
            ],
            [
             0.3333333333333333,
             "#9c179e"
            ],
            [
             0.4444444444444444,
             "#bd3786"
            ],
            [
             0.5555555555555556,
             "#d8576b"
            ],
            [
             0.6666666666666666,
             "#ed7953"
            ],
            [
             0.7777777777777778,
             "#fb9f3a"
            ],
            [
             0.8888888888888888,
             "#fdca26"
            ],
            [
             1,
             "#f0f921"
            ]
           ],
           "sequentialminus": [
            [
             0,
             "#0d0887"
            ],
            [
             0.1111111111111111,
             "#46039f"
            ],
            [
             0.2222222222222222,
             "#7201a8"
            ],
            [
             0.3333333333333333,
             "#9c179e"
            ],
            [
             0.4444444444444444,
             "#bd3786"
            ],
            [
             0.5555555555555556,
             "#d8576b"
            ],
            [
             0.6666666666666666,
             "#ed7953"
            ],
            [
             0.7777777777777778,
             "#fb9f3a"
            ],
            [
             0.8888888888888888,
             "#fdca26"
            ],
            [
             1,
             "#f0f921"
            ]
           ]
          },
          "colorway": [
           "#636efa",
           "#EF553B",
           "#00cc96",
           "#ab63fa",
           "#FFA15A",
           "#19d3f3",
           "#FF6692",
           "#B6E880",
           "#FF97FF",
           "#FECB52"
          ],
          "font": {
           "color": "#2a3f5f"
          },
          "geo": {
           "bgcolor": "white",
           "lakecolor": "white",
           "landcolor": "#E5ECF6",
           "showlakes": true,
           "showland": true,
           "subunitcolor": "white"
          },
          "hoverlabel": {
           "align": "left"
          },
          "hovermode": "closest",
          "mapbox": {
           "style": "light"
          },
          "paper_bgcolor": "white",
          "plot_bgcolor": "#E5ECF6",
          "polar": {
           "angularaxis": {
            "gridcolor": "white",
            "linecolor": "white",
            "ticks": ""
           },
           "bgcolor": "#E5ECF6",
           "radialaxis": {
            "gridcolor": "white",
            "linecolor": "white",
            "ticks": ""
           }
          },
          "scene": {
           "xaxis": {
            "backgroundcolor": "#E5ECF6",
            "gridcolor": "white",
            "gridwidth": 2,
            "linecolor": "white",
            "showbackground": true,
            "ticks": "",
            "zerolinecolor": "white"
           },
           "yaxis": {
            "backgroundcolor": "#E5ECF6",
            "gridcolor": "white",
            "gridwidth": 2,
            "linecolor": "white",
            "showbackground": true,
            "ticks": "",
            "zerolinecolor": "white"
           },
           "zaxis": {
            "backgroundcolor": "#E5ECF6",
            "gridcolor": "white",
            "gridwidth": 2,
            "linecolor": "white",
            "showbackground": true,
            "ticks": "",
            "zerolinecolor": "white"
           }
          },
          "shapedefaults": {
           "line": {
            "color": "#2a3f5f"
           }
          },
          "ternary": {
           "aaxis": {
            "gridcolor": "white",
            "linecolor": "white",
            "ticks": ""
           },
           "baxis": {
            "gridcolor": "white",
            "linecolor": "white",
            "ticks": ""
           },
           "bgcolor": "#E5ECF6",
           "caxis": {
            "gridcolor": "white",
            "linecolor": "white",
            "ticks": ""
           }
          },
          "title": {
           "x": 0.05
          },
          "xaxis": {
           "automargin": true,
           "gridcolor": "white",
           "linecolor": "white",
           "ticks": "",
           "title": {
            "standoff": 15
           },
           "zerolinecolor": "white",
           "zerolinewidth": 2
          },
          "yaxis": {
           "automargin": true,
           "gridcolor": "white",
           "linecolor": "white",
           "ticks": "",
           "title": {
            "standoff": 15
           },
           "zerolinecolor": "white",
           "zerolinewidth": 2
          }
         }
        }
       }
      }
     },
     "metadata": {},
     "output_type": "display_data"
    }
   ],
   "source": [
    "import plotly.graph_objects as go\n",
    "\n",
    "fig = go.Figure()\n",
    "\n",
    "fig.add_trace(go.Scatter(\n",
    "    x=df['createdAt'],\n",
    "    y=df['temperature'],\n",
    "    name=\"Actual\",\n",
    "    mode='lines',\n",
    "    marker=dict(color=\"blue\"),\n",
    "))\n",
    "\n",
    "# add vertical line at the beginning of the start date of df_pred\n",
    "fig.add_vline(x=df_pred['createdAt'][0], line_width=3, line_dash=\"dash\", line_color=\"red\")\n",
    "fig.add_trace(go.Scatter(\n",
    "    x=df_pred['createdAt'],\n",
    "    y=df_pred['predicted_mean'],\n",
    "    name=\"Predicted\",\n",
    "    mode='lines',\n",
    "    marker=dict(color=\"red\"),\n",
    "))\n",
    "fig.show()"
   ]
  },
  {
   "cell_type": "code",
   "execution_count": null,
   "metadata": {},
   "outputs": [],
   "source": []
  }
 ],
 "metadata": {
  "kernelspec": {
   "display_name": "env",
   "language": "python",
   "name": "python3"
  },
  "language_info": {
   "codemirror_mode": {
    "name": "ipython",
    "version": 3
   },
   "file_extension": ".py",
   "mimetype": "text/x-python",
   "name": "python",
   "nbconvert_exporter": "python",
   "pygments_lexer": "ipython3",
   "version": "3.9.0"
  }
 },
 "nbformat": 4,
 "nbformat_minor": 2
}
